{
  "nbformat": 4,
  "nbformat_minor": 0,
  "metadata": {
    "colab": {
      "provenance": [],
      "toc_visible": true,
      "authorship_tag": "ABX9TyMVESesXkP4Wutz98MFjPnd",
      "include_colab_link": true
    },
    "kernelspec": {
      "name": "python3",
      "display_name": "Python 3"
    },
    "language_info": {
      "name": "python"
    }
  },
  "cells": [
    {
      "cell_type": "markdown",
      "metadata": {
        "id": "view-in-github",
        "colab_type": "text"
      },
      "source": [
        "<a href=\"https://colab.research.google.com/github/YasudaKaito/pytorch_book_akaishi/blob/main/ch05_linear_regression.ipynb\" target=\"_parent\"><img src=\"https://colab.research.google.com/assets/colab-badge.svg\" alt=\"Open In Colab\"/></a>"
      ]
    },
    {
      "cell_type": "code",
      "execution_count": 1,
      "metadata": {
        "id": "uty247XM8XcS"
      },
      "outputs": [],
      "source": [
        "import torch\n",
        "import torch.nn as nn"
      ]
    },
    {
      "cell_type": "code",
      "source": [
        "torch.manual_seed(123)\n",
        "l1 = nn.Linear(1, 1)\n",
        "print(l1)"
      ],
      "metadata": {
        "colab": {
          "base_uri": "https://localhost:8080/"
        },
        "id": "IOFDh3Xt9X3q",
        "outputId": "bbf4a81e-b00b-40fc-ea94-068f7f8ac02d"
      },
      "execution_count": 2,
      "outputs": [
        {
          "output_type": "stream",
          "name": "stdout",
          "text": [
            "Linear(in_features=1, out_features=1, bias=True)\n"
          ]
        }
      ]
    },
    {
      "cell_type": "code",
      "source": [
        "for param in l1.named_parameters():\n",
        "    # param は Tuple[str, Parameter]\n",
        "    print(\"name: \", param[0])\n",
        "    print(\"tensor: \", param[1])\n",
        "    print(\"shape: \", param[1].shape)"
      ],
      "metadata": {
        "colab": {
          "base_uri": "https://localhost:8080/"
        },
        "id": "EqU23eIY-Iq4",
        "outputId": "107422a7-fc84-4e1f-c0c5-30c246da4f5c"
      },
      "execution_count": 3,
      "outputs": [
        {
          "output_type": "stream",
          "name": "stdout",
          "text": [
            "name:  weight\n",
            "tensor:  Parameter containing:\n",
            "tensor([[-0.4078]], requires_grad=True)\n",
            "shape:  torch.Size([1, 1])\n",
            "name:  bias\n",
            "tensor:  Parameter containing:\n",
            "tensor([0.0331], requires_grad=True)\n",
            "shape:  torch.Size([1])\n"
          ]
        }
      ]
    },
    {
      "cell_type": "code",
      "source": [
        "# 通常乱数値が設定されるパラメタに明示的に設定\n",
        "nn.init.constant_(l1.weight, 2.0)\n",
        "nn.init.constant_(l1.bias, 1.0)\n",
        "print(l1.weight)\n",
        "print(l1.bias)"
      ],
      "metadata": {
        "colab": {
          "base_uri": "https://localhost:8080/"
        },
        "id": "cLvuYm7u-jE7",
        "outputId": "19b58216-8598-46d3-f319-b47267f5cf04"
      },
      "execution_count": 4,
      "outputs": [
        {
          "output_type": "stream",
          "name": "stdout",
          "text": [
            "Parameter containing:\n",
            "tensor([[2.]], requires_grad=True)\n",
            "Parameter containing:\n",
            "tensor([1.], requires_grad=True)\n"
          ]
        }
      ]
    },
    {
      "cell_type": "code",
      "source": [
        "import numpy as np\n",
        "x_np = np.arange(-2, 2.1, 1)\n",
        "x = torch.tensor(x_np).float()\n",
        "# 形状を(N,1)に変更\n",
        "x = x.view(-1, 1)\n",
        "print(x)"
      ],
      "metadata": {
        "colab": {
          "base_uri": "https://localhost:8080/"
        },
        "id": "wBS9PRhv_IME",
        "outputId": "65536b11-ce5b-4ff7-b672-0d8d9d58f557"
      },
      "execution_count": 5,
      "outputs": [
        {
          "output_type": "stream",
          "name": "stdout",
          "text": [
            "tensor([[-2.],\n",
            "        [-1.],\n",
            "        [ 0.],\n",
            "        [ 1.],\n",
            "        [ 2.]])\n"
          ]
        }
      ]
    },
    {
      "cell_type": "code",
      "source": [
        "# y = 2x + 1\n",
        "y = l1(x)\n",
        "print(y.data)"
      ],
      "metadata": {
        "colab": {
          "base_uri": "https://localhost:8080/"
        },
        "id": "78JMquYsAKvg",
        "outputId": "f54dc8f9-dd2c-4bcf-ea0f-692262f42151"
      },
      "execution_count": 6,
      "outputs": [
        {
          "output_type": "stream",
          "name": "stdout",
          "text": [
            "tensor([[-3.],\n",
            "        [-1.],\n",
            "        [ 1.],\n",
            "        [ 3.],\n",
            "        [ 5.]])\n"
          ]
        }
      ]
    },
    {
      "cell_type": "code",
      "source": [
        "# 入力2, 出力1 の線形関数\n",
        "# y = x1 + x2 + 2\n",
        "l2 = nn.Linear(2, 1)\n",
        "nn.init.constant_(l2.weight, 1.0)\n",
        "nn.init.constant_(l2.bias, 2.0)\n",
        "print(l2.weight)\n",
        "print(l2.bias)"
      ],
      "metadata": {
        "colab": {
          "base_uri": "https://localhost:8080/"
        },
        "id": "N0PKqj7DAd1Q",
        "outputId": "f54e1f2a-dd4c-448e-f69f-ea2e6b9ab376"
      },
      "execution_count": 7,
      "outputs": [
        {
          "output_type": "stream",
          "name": "stdout",
          "text": [
            "Parameter containing:\n",
            "tensor([[1., 1.]], requires_grad=True)\n",
            "Parameter containing:\n",
            "tensor([2.], requires_grad=True)\n"
          ]
        }
      ]
    },
    {
      "cell_type": "code",
      "source": [
        "# 入力テンソルは列が2つの2次元テンソル\n",
        "x2_np = np.array([[0, 0], [0, 1], [1, 0], [1, 1]])\n",
        "x2 = torch.tensor(x2_np).float()\n",
        "print(x2)"
      ],
      "metadata": {
        "colab": {
          "base_uri": "https://localhost:8080/"
        },
        "id": "1ckENXx6A9Uy",
        "outputId": "8f78ba5b-a4a5-42d0-8aa6-ab1e82d8490a"
      },
      "execution_count": 8,
      "outputs": [
        {
          "output_type": "stream",
          "name": "stdout",
          "text": [
            "tensor([[0., 0.],\n",
            "        [0., 1.],\n",
            "        [1., 0.],\n",
            "        [1., 1.]])\n"
          ]
        }
      ]
    },
    {
      "cell_type": "code",
      "source": [
        "y2 = l2(x2)\n",
        "print(y2.data)"
      ],
      "metadata": {
        "colab": {
          "base_uri": "https://localhost:8080/"
        },
        "id": "ZVpWnP99BYPc",
        "outputId": "88cbd12a-9c39-4b63-c1fd-dad4fbcecb34"
      },
      "execution_count": 9,
      "outputs": [
        {
          "output_type": "stream",
          "name": "stdout",
          "text": [
            "tensor([[2.],\n",
            "        [3.],\n",
            "        [3.],\n",
            "        [4.]])\n"
          ]
        }
      ]
    },
    {
      "cell_type": "code",
      "source": [
        "# 入力2, 出力3の線形関数\n",
        "# 入力x: (n, 2), 重みw: (3, 2), バイアスb: (3)\n",
        "l3 = nn.Linear(2, 3)"
      ],
      "metadata": {
        "id": "Z32v45q8Betd"
      },
      "execution_count": 10,
      "outputs": []
    },
    {
      "cell_type": "code",
      "source": [
        "print(l3.weight)\n",
        "print(l3.bias)"
      ],
      "metadata": {
        "colab": {
          "base_uri": "https://localhost:8080/"
        },
        "id": "3ounNuG5E7UN",
        "outputId": "0598192e-2aa2-4ac9-9bff-5a3926ed3bbb"
      },
      "execution_count": 11,
      "outputs": [
        {
          "output_type": "stream",
          "name": "stdout",
          "text": [
            "Parameter containing:\n",
            "tensor([[ 0.5183, -0.5140],\n",
            "        [-0.5622, -0.4468],\n",
            "        [ 0.3202, -0.2613]], requires_grad=True)\n",
            "Parameter containing:\n",
            "tensor([ 0.2646, -0.6001, -0.4290], requires_grad=True)\n"
          ]
        }
      ]
    },
    {
      "cell_type": "code",
      "source": [
        "nn.init.constant_(l3.weight[0, :], 1.0)\n",
        "nn.init.constant_(l3.weight[1, :], 2.0)\n",
        "nn.init.constant_(l3.weight[2, :], 3.0)\n",
        "nn.init.constant_(l3.bias, 2.0)\n",
        "print(l3.weight)\n",
        "print(l3.bias)"
      ],
      "metadata": {
        "colab": {
          "base_uri": "https://localhost:8080/"
        },
        "id": "KfJC-No-FdyQ",
        "outputId": "0c12fd50-ee79-4984-dcad-1321b83f4806"
      },
      "execution_count": 12,
      "outputs": [
        {
          "output_type": "stream",
          "name": "stdout",
          "text": [
            "Parameter containing:\n",
            "tensor([[1., 1.],\n",
            "        [2., 2.],\n",
            "        [3., 3.]], requires_grad=True)\n",
            "Parameter containing:\n",
            "tensor([2., 2., 2.], requires_grad=True)\n"
          ]
        }
      ]
    },
    {
      "cell_type": "code",
      "source": [
        "# 入力x: (4, 2) * 重みw.T: (2, 3) + バイアスb: (4, 3) = 出力: (4, 3)\n",
        "y3 = l3(x2)\n",
        "print(y3.data)"
      ],
      "metadata": {
        "colab": {
          "base_uri": "https://localhost:8080/"
        },
        "id": "xRNZbhPeFBF-",
        "outputId": "abd3add4-918f-4c7e-9523-94ab9208508d"
      },
      "execution_count": 13,
      "outputs": [
        {
          "output_type": "stream",
          "name": "stdout",
          "text": [
            "tensor([[2., 2., 2.],\n",
            "        [3., 4., 5.],\n",
            "        [3., 4., 5.],\n",
            "        [4., 6., 8.]])\n"
          ]
        }
      ]
    },
    {
      "cell_type": "markdown",
      "source": [
        "- 数学の行列計算では行列に対してベクトルを右からかける\n",
        "- しかし機械学習の流儀では入力データは行列の左からかけて右に出力を出す\n",
        "  - この関係で重みを転置して形状を合致させている"
      ],
      "metadata": {
        "id": "lDvAaZZjF2gn"
      }
    },
    {
      "cell_type": "markdown",
      "source": [
        "# 5.6 データ準備"
      ],
      "metadata": {
        "id": "AdJYAY7BHQSK"
      }
    },
    {
      "cell_type": "code",
      "source": [
        "import pandas as pd\n",
        "# データ準備 Boston Housing DataSets\n",
        "data_url = \"http://lib.stat.cmu.edu/datasets/boston\"\n",
        "raw_df = pd.read_csv(data_url, sep=\"\\s+\", skiprows=22, header=None)\n",
        "raw_df"
      ],
      "metadata": {
        "colab": {
          "base_uri": "https://localhost:8080/",
          "height": 423
        },
        "id": "9mLJqI4MUnBo",
        "outputId": "34aee06f-959e-471e-fc7e-c71c2843fc60"
      },
      "execution_count": 14,
      "outputs": [
        {
          "output_type": "execute_result",
          "data": {
            "text/plain": [
              "             0      1      2    3      4      5     6       7    8      9   \\\n",
              "0       0.00632  18.00   2.31  0.0  0.538  6.575  65.2  4.0900  1.0  296.0   \n",
              "1     396.90000   4.98  24.00  NaN    NaN    NaN   NaN     NaN  NaN    NaN   \n",
              "2       0.02731   0.00   7.07  0.0  0.469  6.421  78.9  4.9671  2.0  242.0   \n",
              "3     396.90000   9.14  21.60  NaN    NaN    NaN   NaN     NaN  NaN    NaN   \n",
              "4       0.02729   0.00   7.07  0.0  0.469  7.185  61.1  4.9671  2.0  242.0   \n",
              "...         ...    ...    ...  ...    ...    ...   ...     ...  ...    ...   \n",
              "1007  396.90000   5.64  23.90  NaN    NaN    NaN   NaN     NaN  NaN    NaN   \n",
              "1008    0.10959   0.00  11.93  0.0  0.573  6.794  89.3  2.3889  1.0  273.0   \n",
              "1009  393.45000   6.48  22.00  NaN    NaN    NaN   NaN     NaN  NaN    NaN   \n",
              "1010    0.04741   0.00  11.93  0.0  0.573  6.030  80.8  2.5050  1.0  273.0   \n",
              "1011  396.90000   7.88  11.90  NaN    NaN    NaN   NaN     NaN  NaN    NaN   \n",
              "\n",
              "        10  \n",
              "0     15.3  \n",
              "1      NaN  \n",
              "2     17.8  \n",
              "3      NaN  \n",
              "4     17.8  \n",
              "...    ...  \n",
              "1007   NaN  \n",
              "1008  21.0  \n",
              "1009   NaN  \n",
              "1010  21.0  \n",
              "1011   NaN  \n",
              "\n",
              "[1012 rows x 11 columns]"
            ],
            "text/html": [
              "\n",
              "  <div id=\"df-22fcb012-520a-4cbb-bd4b-6d387255f9fc\" class=\"colab-df-container\">\n",
              "    <div>\n",
              "<style scoped>\n",
              "    .dataframe tbody tr th:only-of-type {\n",
              "        vertical-align: middle;\n",
              "    }\n",
              "\n",
              "    .dataframe tbody tr th {\n",
              "        vertical-align: top;\n",
              "    }\n",
              "\n",
              "    .dataframe thead th {\n",
              "        text-align: right;\n",
              "    }\n",
              "</style>\n",
              "<table border=\"1\" class=\"dataframe\">\n",
              "  <thead>\n",
              "    <tr style=\"text-align: right;\">\n",
              "      <th></th>\n",
              "      <th>0</th>\n",
              "      <th>1</th>\n",
              "      <th>2</th>\n",
              "      <th>3</th>\n",
              "      <th>4</th>\n",
              "      <th>5</th>\n",
              "      <th>6</th>\n",
              "      <th>7</th>\n",
              "      <th>8</th>\n",
              "      <th>9</th>\n",
              "      <th>10</th>\n",
              "    </tr>\n",
              "  </thead>\n",
              "  <tbody>\n",
              "    <tr>\n",
              "      <th>0</th>\n",
              "      <td>0.00632</td>\n",
              "      <td>18.00</td>\n",
              "      <td>2.31</td>\n",
              "      <td>0.0</td>\n",
              "      <td>0.538</td>\n",
              "      <td>6.575</td>\n",
              "      <td>65.2</td>\n",
              "      <td>4.0900</td>\n",
              "      <td>1.0</td>\n",
              "      <td>296.0</td>\n",
              "      <td>15.3</td>\n",
              "    </tr>\n",
              "    <tr>\n",
              "      <th>1</th>\n",
              "      <td>396.90000</td>\n",
              "      <td>4.98</td>\n",
              "      <td>24.00</td>\n",
              "      <td>NaN</td>\n",
              "      <td>NaN</td>\n",
              "      <td>NaN</td>\n",
              "      <td>NaN</td>\n",
              "      <td>NaN</td>\n",
              "      <td>NaN</td>\n",
              "      <td>NaN</td>\n",
              "      <td>NaN</td>\n",
              "    </tr>\n",
              "    <tr>\n",
              "      <th>2</th>\n",
              "      <td>0.02731</td>\n",
              "      <td>0.00</td>\n",
              "      <td>7.07</td>\n",
              "      <td>0.0</td>\n",
              "      <td>0.469</td>\n",
              "      <td>6.421</td>\n",
              "      <td>78.9</td>\n",
              "      <td>4.9671</td>\n",
              "      <td>2.0</td>\n",
              "      <td>242.0</td>\n",
              "      <td>17.8</td>\n",
              "    </tr>\n",
              "    <tr>\n",
              "      <th>3</th>\n",
              "      <td>396.90000</td>\n",
              "      <td>9.14</td>\n",
              "      <td>21.60</td>\n",
              "      <td>NaN</td>\n",
              "      <td>NaN</td>\n",
              "      <td>NaN</td>\n",
              "      <td>NaN</td>\n",
              "      <td>NaN</td>\n",
              "      <td>NaN</td>\n",
              "      <td>NaN</td>\n",
              "      <td>NaN</td>\n",
              "    </tr>\n",
              "    <tr>\n",
              "      <th>4</th>\n",
              "      <td>0.02729</td>\n",
              "      <td>0.00</td>\n",
              "      <td>7.07</td>\n",
              "      <td>0.0</td>\n",
              "      <td>0.469</td>\n",
              "      <td>7.185</td>\n",
              "      <td>61.1</td>\n",
              "      <td>4.9671</td>\n",
              "      <td>2.0</td>\n",
              "      <td>242.0</td>\n",
              "      <td>17.8</td>\n",
              "    </tr>\n",
              "    <tr>\n",
              "      <th>...</th>\n",
              "      <td>...</td>\n",
              "      <td>...</td>\n",
              "      <td>...</td>\n",
              "      <td>...</td>\n",
              "      <td>...</td>\n",
              "      <td>...</td>\n",
              "      <td>...</td>\n",
              "      <td>...</td>\n",
              "      <td>...</td>\n",
              "      <td>...</td>\n",
              "      <td>...</td>\n",
              "    </tr>\n",
              "    <tr>\n",
              "      <th>1007</th>\n",
              "      <td>396.90000</td>\n",
              "      <td>5.64</td>\n",
              "      <td>23.90</td>\n",
              "      <td>NaN</td>\n",
              "      <td>NaN</td>\n",
              "      <td>NaN</td>\n",
              "      <td>NaN</td>\n",
              "      <td>NaN</td>\n",
              "      <td>NaN</td>\n",
              "      <td>NaN</td>\n",
              "      <td>NaN</td>\n",
              "    </tr>\n",
              "    <tr>\n",
              "      <th>1008</th>\n",
              "      <td>0.10959</td>\n",
              "      <td>0.00</td>\n",
              "      <td>11.93</td>\n",
              "      <td>0.0</td>\n",
              "      <td>0.573</td>\n",
              "      <td>6.794</td>\n",
              "      <td>89.3</td>\n",
              "      <td>2.3889</td>\n",
              "      <td>1.0</td>\n",
              "      <td>273.0</td>\n",
              "      <td>21.0</td>\n",
              "    </tr>\n",
              "    <tr>\n",
              "      <th>1009</th>\n",
              "      <td>393.45000</td>\n",
              "      <td>6.48</td>\n",
              "      <td>22.00</td>\n",
              "      <td>NaN</td>\n",
              "      <td>NaN</td>\n",
              "      <td>NaN</td>\n",
              "      <td>NaN</td>\n",
              "      <td>NaN</td>\n",
              "      <td>NaN</td>\n",
              "      <td>NaN</td>\n",
              "      <td>NaN</td>\n",
              "    </tr>\n",
              "    <tr>\n",
              "      <th>1010</th>\n",
              "      <td>0.04741</td>\n",
              "      <td>0.00</td>\n",
              "      <td>11.93</td>\n",
              "      <td>0.0</td>\n",
              "      <td>0.573</td>\n",
              "      <td>6.030</td>\n",
              "      <td>80.8</td>\n",
              "      <td>2.5050</td>\n",
              "      <td>1.0</td>\n",
              "      <td>273.0</td>\n",
              "      <td>21.0</td>\n",
              "    </tr>\n",
              "    <tr>\n",
              "      <th>1011</th>\n",
              "      <td>396.90000</td>\n",
              "      <td>7.88</td>\n",
              "      <td>11.90</td>\n",
              "      <td>NaN</td>\n",
              "      <td>NaN</td>\n",
              "      <td>NaN</td>\n",
              "      <td>NaN</td>\n",
              "      <td>NaN</td>\n",
              "      <td>NaN</td>\n",
              "      <td>NaN</td>\n",
              "      <td>NaN</td>\n",
              "    </tr>\n",
              "  </tbody>\n",
              "</table>\n",
              "<p>1012 rows × 11 columns</p>\n",
              "</div>\n",
              "    <div class=\"colab-df-buttons\">\n",
              "\n",
              "  <div class=\"colab-df-container\">\n",
              "    <button class=\"colab-df-convert\" onclick=\"convertToInteractive('df-22fcb012-520a-4cbb-bd4b-6d387255f9fc')\"\n",
              "            title=\"Convert this dataframe to an interactive table.\"\n",
              "            style=\"display:none;\">\n",
              "\n",
              "  <svg xmlns=\"http://www.w3.org/2000/svg\" height=\"24px\" viewBox=\"0 -960 960 960\">\n",
              "    <path d=\"M120-120v-720h720v720H120Zm60-500h600v-160H180v160Zm220 220h160v-160H400v160Zm0 220h160v-160H400v160ZM180-400h160v-160H180v160Zm440 0h160v-160H620v160ZM180-180h160v-160H180v160Zm440 0h160v-160H620v160Z\"/>\n",
              "  </svg>\n",
              "    </button>\n",
              "\n",
              "  <style>\n",
              "    .colab-df-container {\n",
              "      display:flex;\n",
              "      gap: 12px;\n",
              "    }\n",
              "\n",
              "    .colab-df-convert {\n",
              "      background-color: #E8F0FE;\n",
              "      border: none;\n",
              "      border-radius: 50%;\n",
              "      cursor: pointer;\n",
              "      display: none;\n",
              "      fill: #1967D2;\n",
              "      height: 32px;\n",
              "      padding: 0 0 0 0;\n",
              "      width: 32px;\n",
              "    }\n",
              "\n",
              "    .colab-df-convert:hover {\n",
              "      background-color: #E2EBFA;\n",
              "      box-shadow: 0px 1px 2px rgba(60, 64, 67, 0.3), 0px 1px 3px 1px rgba(60, 64, 67, 0.15);\n",
              "      fill: #174EA6;\n",
              "    }\n",
              "\n",
              "    .colab-df-buttons div {\n",
              "      margin-bottom: 4px;\n",
              "    }\n",
              "\n",
              "    [theme=dark] .colab-df-convert {\n",
              "      background-color: #3B4455;\n",
              "      fill: #D2E3FC;\n",
              "    }\n",
              "\n",
              "    [theme=dark] .colab-df-convert:hover {\n",
              "      background-color: #434B5C;\n",
              "      box-shadow: 0px 1px 3px 1px rgba(0, 0, 0, 0.15);\n",
              "      filter: drop-shadow(0px 1px 2px rgba(0, 0, 0, 0.3));\n",
              "      fill: #FFFFFF;\n",
              "    }\n",
              "  </style>\n",
              "\n",
              "    <script>\n",
              "      const buttonEl =\n",
              "        document.querySelector('#df-22fcb012-520a-4cbb-bd4b-6d387255f9fc button.colab-df-convert');\n",
              "      buttonEl.style.display =\n",
              "        google.colab.kernel.accessAllowed ? 'block' : 'none';\n",
              "\n",
              "      async function convertToInteractive(key) {\n",
              "        const element = document.querySelector('#df-22fcb012-520a-4cbb-bd4b-6d387255f9fc');\n",
              "        const dataTable =\n",
              "          await google.colab.kernel.invokeFunction('convertToInteractive',\n",
              "                                                    [key], {});\n",
              "        if (!dataTable) return;\n",
              "\n",
              "        const docLinkHtml = 'Like what you see? Visit the ' +\n",
              "          '<a target=\"_blank\" href=https://colab.research.google.com/notebooks/data_table.ipynb>data table notebook</a>'\n",
              "          + ' to learn more about interactive tables.';\n",
              "        element.innerHTML = '';\n",
              "        dataTable['output_type'] = 'display_data';\n",
              "        await google.colab.output.renderOutput(dataTable, element);\n",
              "        const docLink = document.createElement('div');\n",
              "        docLink.innerHTML = docLinkHtml;\n",
              "        element.appendChild(docLink);\n",
              "      }\n",
              "    </script>\n",
              "  </div>\n",
              "\n",
              "\n",
              "<div id=\"df-7ddb276f-8855-4bf1-adec-115d1334e674\">\n",
              "  <button class=\"colab-df-quickchart\" onclick=\"quickchart('df-7ddb276f-8855-4bf1-adec-115d1334e674')\"\n",
              "            title=\"Suggest charts\"\n",
              "            style=\"display:none;\">\n",
              "\n",
              "<svg xmlns=\"http://www.w3.org/2000/svg\" height=\"24px\"viewBox=\"0 0 24 24\"\n",
              "     width=\"24px\">\n",
              "    <g>\n",
              "        <path d=\"M19 3H5c-1.1 0-2 .9-2 2v14c0 1.1.9 2 2 2h14c1.1 0 2-.9 2-2V5c0-1.1-.9-2-2-2zM9 17H7v-7h2v7zm4 0h-2V7h2v10zm4 0h-2v-4h2v4z\"/>\n",
              "    </g>\n",
              "</svg>\n",
              "  </button>\n",
              "\n",
              "<style>\n",
              "  .colab-df-quickchart {\n",
              "      --bg-color: #E8F0FE;\n",
              "      --fill-color: #1967D2;\n",
              "      --hover-bg-color: #E2EBFA;\n",
              "      --hover-fill-color: #174EA6;\n",
              "      --disabled-fill-color: #AAA;\n",
              "      --disabled-bg-color: #DDD;\n",
              "  }\n",
              "\n",
              "  [theme=dark] .colab-df-quickchart {\n",
              "      --bg-color: #3B4455;\n",
              "      --fill-color: #D2E3FC;\n",
              "      --hover-bg-color: #434B5C;\n",
              "      --hover-fill-color: #FFFFFF;\n",
              "      --disabled-bg-color: #3B4455;\n",
              "      --disabled-fill-color: #666;\n",
              "  }\n",
              "\n",
              "  .colab-df-quickchart {\n",
              "    background-color: var(--bg-color);\n",
              "    border: none;\n",
              "    border-radius: 50%;\n",
              "    cursor: pointer;\n",
              "    display: none;\n",
              "    fill: var(--fill-color);\n",
              "    height: 32px;\n",
              "    padding: 0;\n",
              "    width: 32px;\n",
              "  }\n",
              "\n",
              "  .colab-df-quickchart:hover {\n",
              "    background-color: var(--hover-bg-color);\n",
              "    box-shadow: 0 1px 2px rgba(60, 64, 67, 0.3), 0 1px 3px 1px rgba(60, 64, 67, 0.15);\n",
              "    fill: var(--button-hover-fill-color);\n",
              "  }\n",
              "\n",
              "  .colab-df-quickchart-complete:disabled,\n",
              "  .colab-df-quickchart-complete:disabled:hover {\n",
              "    background-color: var(--disabled-bg-color);\n",
              "    fill: var(--disabled-fill-color);\n",
              "    box-shadow: none;\n",
              "  }\n",
              "\n",
              "  .colab-df-spinner {\n",
              "    border: 2px solid var(--fill-color);\n",
              "    border-color: transparent;\n",
              "    border-bottom-color: var(--fill-color);\n",
              "    animation:\n",
              "      spin 1s steps(1) infinite;\n",
              "  }\n",
              "\n",
              "  @keyframes spin {\n",
              "    0% {\n",
              "      border-color: transparent;\n",
              "      border-bottom-color: var(--fill-color);\n",
              "      border-left-color: var(--fill-color);\n",
              "    }\n",
              "    20% {\n",
              "      border-color: transparent;\n",
              "      border-left-color: var(--fill-color);\n",
              "      border-top-color: var(--fill-color);\n",
              "    }\n",
              "    30% {\n",
              "      border-color: transparent;\n",
              "      border-left-color: var(--fill-color);\n",
              "      border-top-color: var(--fill-color);\n",
              "      border-right-color: var(--fill-color);\n",
              "    }\n",
              "    40% {\n",
              "      border-color: transparent;\n",
              "      border-right-color: var(--fill-color);\n",
              "      border-top-color: var(--fill-color);\n",
              "    }\n",
              "    60% {\n",
              "      border-color: transparent;\n",
              "      border-right-color: var(--fill-color);\n",
              "    }\n",
              "    80% {\n",
              "      border-color: transparent;\n",
              "      border-right-color: var(--fill-color);\n",
              "      border-bottom-color: var(--fill-color);\n",
              "    }\n",
              "    90% {\n",
              "      border-color: transparent;\n",
              "      border-bottom-color: var(--fill-color);\n",
              "    }\n",
              "  }\n",
              "</style>\n",
              "\n",
              "  <script>\n",
              "    async function quickchart(key) {\n",
              "      const quickchartButtonEl =\n",
              "        document.querySelector('#' + key + ' button');\n",
              "      quickchartButtonEl.disabled = true;  // To prevent multiple clicks.\n",
              "      quickchartButtonEl.classList.add('colab-df-spinner');\n",
              "      try {\n",
              "        const charts = await google.colab.kernel.invokeFunction(\n",
              "            'suggestCharts', [key], {});\n",
              "      } catch (error) {\n",
              "        console.error('Error during call to suggestCharts:', error);\n",
              "      }\n",
              "      quickchartButtonEl.classList.remove('colab-df-spinner');\n",
              "      quickchartButtonEl.classList.add('colab-df-quickchart-complete');\n",
              "    }\n",
              "    (() => {\n",
              "      let quickchartButtonEl =\n",
              "        document.querySelector('#df-7ddb276f-8855-4bf1-adec-115d1334e674 button');\n",
              "      quickchartButtonEl.style.display =\n",
              "        google.colab.kernel.accessAllowed ? 'block' : 'none';\n",
              "    })();\n",
              "  </script>\n",
              "</div>\n",
              "\n",
              "  <div id=\"id_88c93f74-ec42-4c57-96b6-ea2967eacb6f\">\n",
              "    <style>\n",
              "      .colab-df-generate {\n",
              "        background-color: #E8F0FE;\n",
              "        border: none;\n",
              "        border-radius: 50%;\n",
              "        cursor: pointer;\n",
              "        display: none;\n",
              "        fill: #1967D2;\n",
              "        height: 32px;\n",
              "        padding: 0 0 0 0;\n",
              "        width: 32px;\n",
              "      }\n",
              "\n",
              "      .colab-df-generate:hover {\n",
              "        background-color: #E2EBFA;\n",
              "        box-shadow: 0px 1px 2px rgba(60, 64, 67, 0.3), 0px 1px 3px 1px rgba(60, 64, 67, 0.15);\n",
              "        fill: #174EA6;\n",
              "      }\n",
              "\n",
              "      [theme=dark] .colab-df-generate {\n",
              "        background-color: #3B4455;\n",
              "        fill: #D2E3FC;\n",
              "      }\n",
              "\n",
              "      [theme=dark] .colab-df-generate:hover {\n",
              "        background-color: #434B5C;\n",
              "        box-shadow: 0px 1px 3px 1px rgba(0, 0, 0, 0.15);\n",
              "        filter: drop-shadow(0px 1px 2px rgba(0, 0, 0, 0.3));\n",
              "        fill: #FFFFFF;\n",
              "      }\n",
              "    </style>\n",
              "    <button class=\"colab-df-generate\" onclick=\"generateWithVariable('raw_df')\"\n",
              "            title=\"Generate code using this dataframe.\"\n",
              "            style=\"display:none;\">\n",
              "\n",
              "  <svg xmlns=\"http://www.w3.org/2000/svg\" height=\"24px\"viewBox=\"0 0 24 24\"\n",
              "       width=\"24px\">\n",
              "    <path d=\"M7,19H8.4L18.45,9,17,7.55,7,17.6ZM5,21V16.75L18.45,3.32a2,2,0,0,1,2.83,0l1.4,1.43a1.91,1.91,0,0,1,.58,1.4,1.91,1.91,0,0,1-.58,1.4L9.25,21ZM18.45,9,17,7.55Zm-12,3A5.31,5.31,0,0,0,4.9,8.1,5.31,5.31,0,0,0,1,6.5,5.31,5.31,0,0,0,4.9,4.9,5.31,5.31,0,0,0,6.5,1,5.31,5.31,0,0,0,8.1,4.9,5.31,5.31,0,0,0,12,6.5,5.46,5.46,0,0,0,6.5,12Z\"/>\n",
              "  </svg>\n",
              "    </button>\n",
              "    <script>\n",
              "      (() => {\n",
              "      const buttonEl =\n",
              "        document.querySelector('#id_88c93f74-ec42-4c57-96b6-ea2967eacb6f button.colab-df-generate');\n",
              "      buttonEl.style.display =\n",
              "        google.colab.kernel.accessAllowed ? 'block' : 'none';\n",
              "\n",
              "      buttonEl.onclick = () => {\n",
              "        google.colab.notebook.generateWithVariable('raw_df');\n",
              "      }\n",
              "      })();\n",
              "    </script>\n",
              "  </div>\n",
              "\n",
              "    </div>\n",
              "  </div>\n"
            ],
            "application/vnd.google.colaboratory.intrinsic+json": {
              "type": "dataframe",
              "variable_name": "raw_df",
              "summary": "{\n  \"name\": \"raw_df\",\n  \"rows\": 1012,\n  \"fields\": [\n    {\n      \"column\": 0,\n      \"properties\": {\n        \"dtype\": \"number\",\n        \"std\": 188.13283937823942,\n        \"min\": 0.00632,\n        \"max\": 396.9,\n        \"num_unique_values\": 861,\n        \"samples\": [\n          7.02259,\n          0.10659,\n          376.94\n        ],\n        \"semantic_type\": \"\",\n        \"description\": \"\"\n      }\n    },\n    {\n      \"column\": 1,\n      \"properties\": {\n        \"dtype\": \"number\",\n        \"std\": 17.250728213077664,\n        \"min\": 0.0,\n        \"max\": 100.0,\n        \"num_unique_values\": 480,\n        \"samples\": [\n          17.5,\n          17.64,\n          12.13\n        ],\n        \"semantic_type\": \"\",\n        \"description\": \"\"\n      }\n    },\n    {\n      \"column\": 2,\n      \"properties\": {\n        \"dtype\": \"number\",\n        \"std\": 9.912615669583948,\n        \"min\": 0.46,\n        \"max\": 50.0,\n        \"num_unique_values\": 304,\n        \"samples\": [\n          30.1,\n          29.8,\n          17.3\n        ],\n        \"semantic_type\": \"\",\n        \"description\": \"\"\n      }\n    },\n    {\n      \"column\": 3,\n      \"properties\": {\n        \"dtype\": \"number\",\n        \"std\": 0.25399404134041037,\n        \"min\": 0.0,\n        \"max\": 1.0,\n        \"num_unique_values\": 2,\n        \"samples\": [\n          1.0,\n          0.0\n        ],\n        \"semantic_type\": \"\",\n        \"description\": \"\"\n      }\n    },\n    {\n      \"column\": 4,\n      \"properties\": {\n        \"dtype\": \"number\",\n        \"std\": 0.11587767566755595,\n        \"min\": 0.385,\n        \"max\": 0.871,\n        \"num_unique_values\": 81,\n        \"samples\": [\n          0.401,\n          0.538\n        ],\n        \"semantic_type\": \"\",\n        \"description\": \"\"\n      }\n    },\n    {\n      \"column\": 5,\n      \"properties\": {\n        \"dtype\": \"number\",\n        \"std\": 0.7026171434153233,\n        \"min\": 3.561,\n        \"max\": 8.78,\n        \"num_unique_values\": 446,\n        \"samples\": [\n          6.849,\n          4.88\n        ],\n        \"semantic_type\": \"\",\n        \"description\": \"\"\n      }\n    },\n    {\n      \"column\": 6,\n      \"properties\": {\n        \"dtype\": \"number\",\n        \"std\": 28.148861406903617,\n        \"min\": 2.9,\n        \"max\": 100.0,\n        \"num_unique_values\": 356,\n        \"samples\": [\n          51.8,\n          33.8\n        ],\n        \"semantic_type\": \"\",\n        \"description\": \"\"\n      }\n    },\n    {\n      \"column\": 7,\n      \"properties\": {\n        \"dtype\": \"number\",\n        \"std\": 2.105710126627611,\n        \"min\": 1.1296,\n        \"max\": 12.1265,\n        \"num_unique_values\": 412,\n        \"samples\": [\n          2.2955,\n          4.2515\n        ],\n        \"semantic_type\": \"\",\n        \"description\": \"\"\n      }\n    },\n    {\n      \"column\": 8,\n      \"properties\": {\n        \"dtype\": \"number\",\n        \"std\": 8.707259384239366,\n        \"min\": 1.0,\n        \"max\": 24.0,\n        \"num_unique_values\": 9,\n        \"samples\": [\n          7.0,\n          2.0\n        ],\n        \"semantic_type\": \"\",\n        \"description\": \"\"\n      }\n    },\n    {\n      \"column\": 9,\n      \"properties\": {\n        \"dtype\": \"number\",\n        \"std\": 168.53711605495903,\n        \"min\": 187.0,\n        \"max\": 711.0,\n        \"num_unique_values\": 66,\n        \"samples\": [\n          370.0,\n          666.0\n        ],\n        \"semantic_type\": \"\",\n        \"description\": \"\"\n      }\n    },\n    {\n      \"column\": 10,\n      \"properties\": {\n        \"dtype\": \"number\",\n        \"std\": 2.1649455237144406,\n        \"min\": 12.6,\n        \"max\": 22.0,\n        \"num_unique_values\": 46,\n        \"samples\": [\n          19.6,\n          15.6\n        ],\n        \"semantic_type\": \"\",\n        \"description\": \"\"\n      }\n    }\n  ]\n}"
            }
          },
          "metadata": {},
          "execution_count": 14
        }
      ]
    },
    {
      "cell_type": "code",
      "source": [
        "# 元データが、1件が2行に分かれている\n",
        "# そのため2行ごとに取得し、列方向に連結する. 2行目の2列目が目的変数(住宅価格)\n",
        "x_org = np.hstack([raw_df.values[::2, :], raw_df.values[1::2, :2]])\n",
        "x_org"
      ],
      "metadata": {
        "colab": {
          "base_uri": "https://localhost:8080/"
        },
        "id": "eQfS0XT_ViJQ",
        "outputId": "195a3eee-0775-47af-836b-4af1af8d9b1b"
      },
      "execution_count": 15,
      "outputs": [
        {
          "output_type": "execute_result",
          "data": {
            "text/plain": [
              "array([[6.3200e-03, 1.8000e+01, 2.3100e+00, ..., 1.5300e+01, 3.9690e+02,\n",
              "        4.9800e+00],\n",
              "       [2.7310e-02, 0.0000e+00, 7.0700e+00, ..., 1.7800e+01, 3.9690e+02,\n",
              "        9.1400e+00],\n",
              "       [2.7290e-02, 0.0000e+00, 7.0700e+00, ..., 1.7800e+01, 3.9283e+02,\n",
              "        4.0300e+00],\n",
              "       ...,\n",
              "       [6.0760e-02, 0.0000e+00, 1.1930e+01, ..., 2.1000e+01, 3.9690e+02,\n",
              "        5.6400e+00],\n",
              "       [1.0959e-01, 0.0000e+00, 1.1930e+01, ..., 2.1000e+01, 3.9345e+02,\n",
              "        6.4800e+00],\n",
              "       [4.7410e-02, 0.0000e+00, 1.1930e+01, ..., 2.1000e+01, 3.9690e+02,\n",
              "        7.8800e+00]])"
            ]
          },
          "metadata": {},
          "execution_count": 15
        }
      ]
    },
    {
      "cell_type": "code",
      "source": [
        "yt = raw_df.values[1::2, 2]\n",
        "yt"
      ],
      "metadata": {
        "colab": {
          "base_uri": "https://localhost:8080/"
        },
        "id": "C5Us_Ux3V1PB",
        "outputId": "7da32a27-a5bb-4634-d8c0-43383190e55d"
      },
      "execution_count": 16,
      "outputs": [
        {
          "output_type": "execute_result",
          "data": {
            "text/plain": [
              "array([24. , 21.6, 34.7, 33.4, 36.2, 28.7, 22.9, 27.1, 16.5, 18.9, 15. ,\n",
              "       18.9, 21.7, 20.4, 18.2, 19.9, 23.1, 17.5, 20.2, 18.2, 13.6, 19.6,\n",
              "       15.2, 14.5, 15.6, 13.9, 16.6, 14.8, 18.4, 21. , 12.7, 14.5, 13.2,\n",
              "       13.1, 13.5, 18.9, 20. , 21. , 24.7, 30.8, 34.9, 26.6, 25.3, 24.7,\n",
              "       21.2, 19.3, 20. , 16.6, 14.4, 19.4, 19.7, 20.5, 25. , 23.4, 18.9,\n",
              "       35.4, 24.7, 31.6, 23.3, 19.6, 18.7, 16. , 22.2, 25. , 33. , 23.5,\n",
              "       19.4, 22. , 17.4, 20.9, 24.2, 21.7, 22.8, 23.4, 24.1, 21.4, 20. ,\n",
              "       20.8, 21.2, 20.3, 28. , 23.9, 24.8, 22.9, 23.9, 26.6, 22.5, 22.2,\n",
              "       23.6, 28.7, 22.6, 22. , 22.9, 25. , 20.6, 28.4, 21.4, 38.7, 43.8,\n",
              "       33.2, 27.5, 26.5, 18.6, 19.3, 20.1, 19.5, 19.5, 20.4, 19.8, 19.4,\n",
              "       21.7, 22.8, 18.8, 18.7, 18.5, 18.3, 21.2, 19.2, 20.4, 19.3, 22. ,\n",
              "       20.3, 20.5, 17.3, 18.8, 21.4, 15.7, 16.2, 18. , 14.3, 19.2, 19.6,\n",
              "       23. , 18.4, 15.6, 18.1, 17.4, 17.1, 13.3, 17.8, 14. , 14.4, 13.4,\n",
              "       15.6, 11.8, 13.8, 15.6, 14.6, 17.8, 15.4, 21.5, 19.6, 15.3, 19.4,\n",
              "       17. , 15.6, 13.1, 41.3, 24.3, 23.3, 27. , 50. , 50. , 50. , 22.7,\n",
              "       25. , 50. , 23.8, 23.8, 22.3, 17.4, 19.1, 23.1, 23.6, 22.6, 29.4,\n",
              "       23.2, 24.6, 29.9, 37.2, 39.8, 36.2, 37.9, 32.5, 26.4, 29.6, 50. ,\n",
              "       32. , 29.8, 34.9, 37. , 30.5, 36.4, 31.1, 29.1, 50. , 33.3, 30.3,\n",
              "       34.6, 34.9, 32.9, 24.1, 42.3, 48.5, 50. , 22.6, 24.4, 22.5, 24.4,\n",
              "       20. , 21.7, 19.3, 22.4, 28.1, 23.7, 25. , 23.3, 28.7, 21.5, 23. ,\n",
              "       26.7, 21.7, 27.5, 30.1, 44.8, 50. , 37.6, 31.6, 46.7, 31.5, 24.3,\n",
              "       31.7, 41.7, 48.3, 29. , 24. , 25.1, 31.5, 23.7, 23.3, 22. , 20.1,\n",
              "       22.2, 23.7, 17.6, 18.5, 24.3, 20.5, 24.5, 26.2, 24.4, 24.8, 29.6,\n",
              "       42.8, 21.9, 20.9, 44. , 50. , 36. , 30.1, 33.8, 43.1, 48.8, 31. ,\n",
              "       36.5, 22.8, 30.7, 50. , 43.5, 20.7, 21.1, 25.2, 24.4, 35.2, 32.4,\n",
              "       32. , 33.2, 33.1, 29.1, 35.1, 45.4, 35.4, 46. , 50. , 32.2, 22. ,\n",
              "       20.1, 23.2, 22.3, 24.8, 28.5, 37.3, 27.9, 23.9, 21.7, 28.6, 27.1,\n",
              "       20.3, 22.5, 29. , 24.8, 22. , 26.4, 33.1, 36.1, 28.4, 33.4, 28.2,\n",
              "       22.8, 20.3, 16.1, 22.1, 19.4, 21.6, 23.8, 16.2, 17.8, 19.8, 23.1,\n",
              "       21. , 23.8, 23.1, 20.4, 18.5, 25. , 24.6, 23. , 22.2, 19.3, 22.6,\n",
              "       19.8, 17.1, 19.4, 22.2, 20.7, 21.1, 19.5, 18.5, 20.6, 19. , 18.7,\n",
              "       32.7, 16.5, 23.9, 31.2, 17.5, 17.2, 23.1, 24.5, 26.6, 22.9, 24.1,\n",
              "       18.6, 30.1, 18.2, 20.6, 17.8, 21.7, 22.7, 22.6, 25. , 19.9, 20.8,\n",
              "       16.8, 21.9, 27.5, 21.9, 23.1, 50. , 50. , 50. , 50. , 50. , 13.8,\n",
              "       13.8, 15. , 13.9, 13.3, 13.1, 10.2, 10.4, 10.9, 11.3, 12.3,  8.8,\n",
              "        7.2, 10.5,  7.4, 10.2, 11.5, 15.1, 23.2,  9.7, 13.8, 12.7, 13.1,\n",
              "       12.5,  8.5,  5. ,  6.3,  5.6,  7.2, 12.1,  8.3,  8.5,  5. , 11.9,\n",
              "       27.9, 17.2, 27.5, 15. , 17.2, 17.9, 16.3,  7. ,  7.2,  7.5, 10.4,\n",
              "        8.8,  8.4, 16.7, 14.2, 20.8, 13.4, 11.7,  8.3, 10.2, 10.9, 11. ,\n",
              "        9.5, 14.5, 14.1, 16.1, 14.3, 11.7, 13.4,  9.6,  8.7,  8.4, 12.8,\n",
              "       10.5, 17.1, 18.4, 15.4, 10.8, 11.8, 14.9, 12.6, 14.1, 13. , 13.4,\n",
              "       15.2, 16.1, 17.8, 14.9, 14.1, 12.7, 13.5, 14.9, 20. , 16.4, 17.7,\n",
              "       19.5, 20.2, 21.4, 19.9, 19. , 19.1, 19.1, 20.1, 19.9, 19.6, 23.2,\n",
              "       29.8, 13.8, 13.3, 16.7, 12. , 14.6, 21.4, 23. , 23.7, 25. , 21.8,\n",
              "       20.6, 21.2, 19.1, 20.6, 15.2,  7. ,  8.1, 13.6, 20.1, 21.8, 24.5,\n",
              "       23.1, 19.7, 18.3, 21.2, 17.5, 16.8, 22.4, 20.6, 23.9, 22. , 11.9])"
            ]
          },
          "metadata": {},
          "execution_count": 16
        }
      ]
    },
    {
      "cell_type": "code",
      "source": [
        "feature_names = np.array([\n",
        "    \"CRIM\",\n",
        "    \"ZN\",\n",
        "    \"INDUS\",\n",
        "    \"CHAS\",\n",
        "    \"NOX\",\n",
        "    \"RM\",\n",
        "    \"AGE\",\n",
        "    \"DIS\",\n",
        "    \"RAD\",\n",
        "    \"TAX\",\n",
        "    \"PTRATIO\",\n",
        "    \"B\",\n",
        "    \"LSTAT\",\n",
        "])"
      ],
      "metadata": {
        "id": "ciMRhWX_YQt8"
      },
      "execution_count": 17,
      "outputs": []
    },
    {
      "cell_type": "code",
      "source": [
        "# 平均部屋数(RM)のみ抜き出す\n",
        "x = x_org[:, feature_names == \"RM\"]\n",
        "print(x.shape)\n",
        "print(x[:5, :])"
      ],
      "metadata": {
        "colab": {
          "base_uri": "https://localhost:8080/"
        },
        "id": "KV7UdF5WZMLA",
        "outputId": "5d696c5b-ebe3-4e00-8b02-5f24064ce90d"
      },
      "execution_count": 18,
      "outputs": [
        {
          "output_type": "stream",
          "name": "stdout",
          "text": [
            "(506, 1)\n",
            "[[6.575]\n",
            " [6.421]\n",
            " [7.185]\n",
            " [6.998]\n",
            " [7.147]]\n"
          ]
        }
      ]
    },
    {
      "cell_type": "code",
      "source": [
        "print(yt[:5])"
      ],
      "metadata": {
        "colab": {
          "base_uri": "https://localhost:8080/"
        },
        "id": "7NEebdLnZji9",
        "outputId": "97dc6ed5-a24e-44e4-fc71-f2af89e0d034"
      },
      "execution_count": 19,
      "outputs": [
        {
          "output_type": "stream",
          "name": "stdout",
          "text": [
            "[24.  21.6 34.7 33.4 36.2]\n"
          ]
        }
      ]
    },
    {
      "cell_type": "code",
      "source": [
        "!pip install japanize-matplotlib | tail -n 1"
      ],
      "metadata": {
        "colab": {
          "base_uri": "https://localhost:8080/"
        },
        "id": "t78iJbqVZzrI",
        "outputId": "9f5f975d-08cd-4fc3-ec40-fc0dac54201c"
      },
      "execution_count": 20,
      "outputs": [
        {
          "output_type": "stream",
          "name": "stdout",
          "text": [
            "Successfully installed japanize-matplotlib-1.1.3\n"
          ]
        }
      ]
    },
    {
      "cell_type": "code",
      "source": [
        "import matplotlib.pyplot as plt\n",
        "import japanize_matplotlib"
      ],
      "metadata": {
        "id": "F3971yv3ae8R"
      },
      "execution_count": 21,
      "outputs": []
    },
    {
      "cell_type": "code",
      "source": [
        "plt.rcParams[\"axes.grid\"] = True"
      ],
      "metadata": {
        "id": "0Dp89vOBalvm"
      },
      "execution_count": 22,
      "outputs": []
    },
    {
      "cell_type": "code",
      "source": [
        "# 部屋数と価格の散布図\n",
        "plt.scatter(x, yt, s=10, c=\"b\")\n",
        "plt.xlabel(\"部屋数\")\n",
        "plt.ylabel(\"価格\")\n",
        "plt.show()"
      ],
      "metadata": {
        "colab": {
          "base_uri": "https://localhost:8080/",
          "height": 448
        },
        "id": "I-9RYgARarI6",
        "outputId": "007acce3-d97c-4e86-ec50-8effe659cce2"
      },
      "execution_count": 23,
      "outputs": [
        {
          "output_type": "display_data",
          "data": {
            "text/plain": [
              "<Figure size 640x480 with 1 Axes>"
            ],
            "image/png": "[encoded data removed]"
          },
          "metadata": {}
        }
      ]
    },
    {
      "cell_type": "markdown",
      "source": [
        "# 5.7 モデル定義"
      ],
      "metadata": {
        "id": "bRGSo5ZVbBoa"
      }
    },
    {
      "cell_type": "code",
      "source": [
        "# 入力次元数\n",
        "n_input = x.shape[1]\n",
        "# 出力次元数\n",
        "n_output = 1"
      ],
      "metadata": {
        "id": "37GpmrasbTIA"
      },
      "execution_count": 24,
      "outputs": []
    },
    {
      "cell_type": "code",
      "source": [
        "class Net(nn.Module):\n",
        "    def __init__(self, n_input, n_output) -> None:\n",
        "        super().__init__()\n",
        "        self.l1 = nn.Linear(n_input, n_output)\n",
        "        # 初期値は1\n",
        "        nn.init.constant_(self.l1.weight, 1.0)\n",
        "        nn.init.constant_(self.l1.bias, 1.0)\n",
        "\n",
        "    def forward(self, x):\n",
        "        x1 = self.l1(x)\n",
        "        return x1"
      ],
      "metadata": {
        "id": "mwhukRX3bc9c"
      },
      "execution_count": 25,
      "outputs": []
    },
    {
      "cell_type": "code",
      "source": [
        "net = Net(n_input, n_output)"
      ],
      "metadata": {
        "id": "rxP_Km54cZf7"
      },
      "execution_count": 26,
      "outputs": []
    },
    {
      "cell_type": "code",
      "source": [
        "print(net)"
      ],
      "metadata": {
        "colab": {
          "base_uri": "https://localhost:8080/"
        },
        "id": "gcPXDR1_cf5d",
        "outputId": "7d288520-6bba-4247-d3b3-332b76e812bc"
      },
      "execution_count": 27,
      "outputs": [
        {
          "output_type": "stream",
          "name": "stdout",
          "text": [
            "Net(\n",
            "  (l1): Linear(in_features=1, out_features=1, bias=True)\n",
            ")\n"
          ]
        }
      ]
    },
    {
      "cell_type": "code",
      "source": [
        "import torch.optim as optim\n",
        "\n",
        "lr = 0.01\n",
        "net = Net(n_input, n_output)\n",
        "# 損失関数\n",
        "criterion = nn.MSELoss()\n",
        "# 最適化関数\n",
        "optimizer = optim.SGD(net.parameters(), lr=lr)\n",
        "num_epochs = 50000\n",
        "# 損失記録用\n",
        "history = np.zeros((0, 2))"
      ],
      "metadata": {
        "id": "ErrN6e1Q5P7F"
      },
      "execution_count": 29,
      "outputs": []
    },
    {
      "cell_type": "code",
      "source": [
        "inputs = torch.tensor(x).float()\n",
        "labels = torch.tensor(yt).float()"
      ],
      "metadata": {
        "id": "eW1_1F0A6tfr"
      },
      "execution_count": 31,
      "outputs": []
    },
    {
      "cell_type": "code",
      "source": [
        "print(inputs.shape)"
      ],
      "metadata": {
        "colab": {
          "base_uri": "https://localhost:8080/"
        },
        "id": "DFLLcrmD7GNn",
        "outputId": "f53e508d-bb70-4699-8b74-8f41e08b3d3b"
      },
      "execution_count": 32,
      "outputs": [
        {
          "output_type": "stream",
          "name": "stdout",
          "text": [
            "torch.Size([506, 1])\n"
          ]
        }
      ]
    },
    {
      "cell_type": "code",
      "source": [
        "# 形状を合わせる\n",
        "labels1 = labels.view(-1, 1)\n",
        "print(labels1.shape)"
      ],
      "metadata": {
        "colab": {
          "base_uri": "https://localhost:8080/"
        },
        "id": "WiXeOqkD7JOf",
        "outputId": "cb2146a0-2360-46f8-e1aa-6fe3a734f925"
      },
      "execution_count": 33,
      "outputs": [
        {
          "output_type": "stream",
          "name": "stdout",
          "text": [
            "torch.Size([506, 1])\n"
          ]
        }
      ]
    },
    {
      "cell_type": "code",
      "source": [
        "for epoch in range(num_epochs):\n",
        "    # 勾配値初期化\n",
        "    optimizer.zero_grad()\n",
        "    # 予測\n",
        "    outputs = net(inputs)\n",
        "    # 損失計算\n",
        "    loss = criterion(outputs, labels1) / 2.0\n",
        "    # 勾配計算\n",
        "    loss.backward()\n",
        "    # パラメタ更新\n",
        "    optimizer.step()\n",
        "\n",
        "    if (epoch % 100 == 0):\n",
        "        loss_item = loss.item()\n",
        "        history = np.vstack((history, np.array([epoch, loss_item])))\n",
        "        print(f\"Epoch {epoch} loss: {loss_item:.5f}\")"
      ],
      "metadata": {
        "colab": {
          "base_uri": "https://localhost:8080/"
        },
        "id": "GWrekKfm556V",
        "outputId": "3af2cda7-8f9d-4b89-a2b2-3526850f354e"
      },
      "execution_count": 38,
      "outputs": [
        {
          "output_type": "stream",
          "name": "stdout",
          "text": [
            "Epoch 0 loss: 42.17306\n",
            "Epoch 100 loss: 41.45518\n",
            "Epoch 200 loss: 40.98814\n",
            "Epoch 300 loss: 40.53220\n",
            "Epoch 400 loss: 40.08710\n",
            "Epoch 500 loss: 39.65257\n",
            "Epoch 600 loss: 39.22837\n",
            "Epoch 700 loss: 38.81425\n",
            "Epoch 800 loss: 38.40996\n",
            "Epoch 900 loss: 38.01529\n",
            "Epoch 1000 loss: 37.62999\n",
            "Epoch 1100 loss: 37.25385\n",
            "Epoch 1200 loss: 36.88665\n",
            "Epoch 1300 loss: 36.52817\n",
            "Epoch 1400 loss: 36.17820\n",
            "Epoch 1500 loss: 35.83656\n",
            "Epoch 1600 loss: 35.50303\n",
            "Epoch 1700 loss: 35.17743\n",
            "Epoch 1800 loss: 34.85956\n",
            "Epoch 1900 loss: 34.54925\n",
            "Epoch 2000 loss: 34.24632\n",
            "Epoch 2100 loss: 33.95057\n",
            "Epoch 2200 loss: 33.66185\n",
            "Epoch 2300 loss: 33.38000\n",
            "Epoch 2400 loss: 33.10485\n",
            "Epoch 2500 loss: 32.83623\n",
            "Epoch 2600 loss: 32.57399\n",
            "Epoch 2700 loss: 32.31799\n",
            "Epoch 2800 loss: 32.06807\n",
            "Epoch 2900 loss: 31.82409\n",
            "Epoch 3000 loss: 31.58591\n",
            "Epoch 3100 loss: 31.35338\n",
            "Epoch 3200 loss: 31.12638\n",
            "Epoch 3300 loss: 30.90478\n",
            "Epoch 3400 loss: 30.68844\n",
            "Epoch 3500 loss: 30.47724\n",
            "Epoch 3600 loss: 30.27106\n",
            "Epoch 3700 loss: 30.06978\n",
            "Epoch 3800 loss: 29.87328\n",
            "Epoch 3900 loss: 29.68145\n",
            "Epoch 4000 loss: 29.49418\n",
            "Epoch 4100 loss: 29.31136\n",
            "Epoch 4200 loss: 29.13288\n",
            "Epoch 4300 loss: 28.95865\n",
            "Epoch 4400 loss: 28.78855\n",
            "Epoch 4500 loss: 28.62250\n",
            "Epoch 4600 loss: 28.46039\n",
            "Epoch 4700 loss: 28.30213\n",
            "Epoch 4800 loss: 28.14763\n",
            "Epoch 4900 loss: 27.99681\n",
            "Epoch 5000 loss: 27.84957\n",
            "Epoch 5100 loss: 27.70583\n",
            "Epoch 5200 loss: 27.56550\n",
            "Epoch 5300 loss: 27.42851\n",
            "Epoch 5400 loss: 27.29477\n",
            "Epoch 5500 loss: 27.16422\n",
            "Epoch 5600 loss: 27.03676\n",
            "Epoch 5700 loss: 26.91233\n",
            "Epoch 5800 loss: 26.79086\n",
            "Epoch 5900 loss: 26.67227\n",
            "Epoch 6000 loss: 26.55651\n",
            "Epoch 6100 loss: 26.44349\n",
            "Epoch 6200 loss: 26.33316\n",
            "Epoch 6300 loss: 26.22545\n",
            "Epoch 6400 loss: 26.12030\n",
            "Epoch 6500 loss: 26.01765\n",
            "Epoch 6600 loss: 25.91744\n",
            "Epoch 6700 loss: 25.81961\n",
            "Epoch 6800 loss: 25.72410\n",
            "Epoch 6900 loss: 25.63087\n",
            "Epoch 7000 loss: 25.53984\n",
            "Epoch 7100 loss: 25.45098\n",
            "Epoch 7200 loss: 25.36423\n",
            "Epoch 7300 loss: 25.27955\n",
            "Epoch 7400 loss: 25.19688\n",
            "Epoch 7500 loss: 25.11617\n",
            "Epoch 7600 loss: 25.03738\n",
            "Epoch 7700 loss: 24.96046\n",
            "Epoch 7800 loss: 24.88537\n",
            "Epoch 7900 loss: 24.81206\n",
            "Epoch 8000 loss: 24.74050\n",
            "Epoch 8100 loss: 24.67063\n",
            "Epoch 8200 loss: 24.60242\n",
            "Epoch 8300 loss: 24.53584\n",
            "Epoch 8400 loss: 24.47084\n",
            "Epoch 8500 loss: 24.40738\n",
            "Epoch 8600 loss: 24.34543\n",
            "Epoch 8700 loss: 24.28496\n",
            "Epoch 8800 loss: 24.22592\n",
            "Epoch 8900 loss: 24.16828\n",
            "Epoch 9000 loss: 24.11201\n",
            "Epoch 9100 loss: 24.05708\n",
            "Epoch 9200 loss: 24.00345\n",
            "Epoch 9300 loss: 23.95110\n",
            "Epoch 9400 loss: 23.90000\n",
            "Epoch 9500 loss: 23.85010\n",
            "Epoch 9600 loss: 23.80139\n",
            "Epoch 9700 loss: 23.75385\n",
            "Epoch 9800 loss: 23.70742\n",
            "Epoch 9900 loss: 23.66211\n",
            "Epoch 10000 loss: 23.61787\n",
            "Epoch 10100 loss: 23.57468\n",
            "Epoch 10200 loss: 23.53252\n",
            "Epoch 10300 loss: 23.49135\n",
            "Epoch 10400 loss: 23.45117\n",
            "Epoch 10500 loss: 23.41195\n",
            "Epoch 10600 loss: 23.37365\n",
            "Epoch 10700 loss: 23.33626\n",
            "Epoch 10800 loss: 23.29977\n",
            "Epoch 10900 loss: 23.26413\n",
            "Epoch 11000 loss: 23.22935\n",
            "Epoch 11100 loss: 23.19539\n",
            "Epoch 11200 loss: 23.16224\n",
            "Epoch 11300 loss: 23.12988\n",
            "Epoch 11400 loss: 23.09829\n",
            "Epoch 11500 loss: 23.06745\n",
            "Epoch 11600 loss: 23.03734\n",
            "Epoch 11700 loss: 23.00794\n",
            "Epoch 11800 loss: 22.97924\n",
            "Epoch 11900 loss: 22.95123\n",
            "Epoch 12000 loss: 22.92388\n",
            "Epoch 12100 loss: 22.89718\n",
            "Epoch 12200 loss: 22.87112\n",
            "Epoch 12300 loss: 22.84568\n",
            "Epoch 12400 loss: 22.82083\n",
            "Epoch 12500 loss: 22.79659\n",
            "Epoch 12600 loss: 22.77291\n",
            "Epoch 12700 loss: 22.74980\n",
            "Epoch 12800 loss: 22.72724\n",
            "Epoch 12900 loss: 22.70521\n",
            "Epoch 13000 loss: 22.68371\n",
            "Epoch 13100 loss: 22.66272\n",
            "Epoch 13200 loss: 22.64223\n",
            "Epoch 13300 loss: 22.62222\n",
            "Epoch 13400 loss: 22.60269\n",
            "Epoch 13500 loss: 22.58362\n",
            "Epoch 13600 loss: 22.56501\n",
            "Epoch 13700 loss: 22.54684\n",
            "Epoch 13800 loss: 22.52910\n",
            "Epoch 13900 loss: 22.51178\n",
            "Epoch 14000 loss: 22.49487\n",
            "Epoch 14100 loss: 22.47837\n",
            "Epoch 14200 loss: 22.46225\n",
            "Epoch 14300 loss: 22.44653\n",
            "Epoch 14400 loss: 22.43117\n",
            "Epoch 14500 loss: 22.41618\n",
            "Epoch 14600 loss: 22.40154\n",
            "Epoch 14700 loss: 22.38726\n",
            "Epoch 14800 loss: 22.37331\n",
            "Epoch 14900 loss: 22.35969\n",
            "Epoch 15000 loss: 22.34640\n",
            "Epoch 15100 loss: 22.33343\n",
            "Epoch 15200 loss: 22.32076\n",
            "Epoch 15300 loss: 22.30839\n",
            "Epoch 15400 loss: 22.29632\n",
            "Epoch 15500 loss: 22.28453\n",
            "Epoch 15600 loss: 22.27302\n",
            "Epoch 15700 loss: 22.26179\n",
            "Epoch 15800 loss: 22.25082\n",
            "Epoch 15900 loss: 22.24011\n",
            "Epoch 16000 loss: 22.22967\n",
            "Epoch 16100 loss: 22.21946\n",
            "Epoch 16200 loss: 22.20950\n",
            "Epoch 16300 loss: 22.19978\n",
            "Epoch 16400 loss: 22.19028\n",
            "Epoch 16500 loss: 22.18102\n",
            "Epoch 16600 loss: 22.17197\n",
            "Epoch 16700 loss: 22.16314\n",
            "Epoch 16800 loss: 22.15452\n",
            "Epoch 16900 loss: 22.14610\n",
            "Epoch 17000 loss: 22.13788\n",
            "Epoch 17100 loss: 22.12986\n",
            "Epoch 17200 loss: 22.12203\n",
            "Epoch 17300 loss: 22.11439\n",
            "Epoch 17400 loss: 22.10692\n",
            "Epoch 17500 loss: 22.09964\n",
            "Epoch 17600 loss: 22.09252\n",
            "Epoch 17700 loss: 22.08558\n",
            "Epoch 17800 loss: 22.07880\n",
            "Epoch 17900 loss: 22.07218\n",
            "Epoch 18000 loss: 22.06572\n",
            "Epoch 18100 loss: 22.05941\n",
            "Epoch 18200 loss: 22.05325\n",
            "Epoch 18300 loss: 22.04724\n",
            "Epoch 18400 loss: 22.04137\n",
            "Epoch 18500 loss: 22.03565\n",
            "Epoch 18600 loss: 22.03006\n",
            "Epoch 18700 loss: 22.02459\n",
            "Epoch 18800 loss: 22.01926\n",
            "Epoch 18900 loss: 22.01406\n",
            "Epoch 19000 loss: 22.00898\n",
            "Epoch 19100 loss: 22.00402\n",
            "Epoch 19200 loss: 21.99918\n",
            "Epoch 19300 loss: 21.99446\n",
            "Epoch 19400 loss: 21.98984\n",
            "Epoch 19500 loss: 21.98534\n",
            "Epoch 19600 loss: 21.98094\n",
            "Epoch 19700 loss: 21.97665\n",
            "Epoch 19800 loss: 21.97246\n",
            "Epoch 19900 loss: 21.96836\n",
            "Epoch 20000 loss: 21.96437\n",
            "Epoch 20100 loss: 21.96047\n",
            "Epoch 20200 loss: 21.95667\n",
            "Epoch 20300 loss: 21.95295\n",
            "Epoch 20400 loss: 21.94932\n",
            "Epoch 20500 loss: 21.94578\n",
            "Epoch 20600 loss: 21.94232\n",
            "Epoch 20700 loss: 21.93895\n",
            "Epoch 20800 loss: 21.93565\n",
            "Epoch 20900 loss: 21.93243\n",
            "Epoch 21000 loss: 21.92930\n",
            "Epoch 21100 loss: 21.92623\n",
            "Epoch 21200 loss: 21.92324\n",
            "Epoch 21300 loss: 21.92031\n",
            "Epoch 21400 loss: 21.91747\n",
            "Epoch 21500 loss: 21.91468\n",
            "Epoch 21600 loss: 21.91196\n",
            "Epoch 21700 loss: 21.90931\n",
            "Epoch 21800 loss: 21.90672\n",
            "Epoch 21900 loss: 21.90419\n",
            "Epoch 22000 loss: 21.90172\n",
            "Epoch 22100 loss: 21.89931\n",
            "Epoch 22200 loss: 21.89696\n",
            "Epoch 22300 loss: 21.89466\n",
            "Epoch 22400 loss: 21.89242\n",
            "Epoch 22500 loss: 21.89023\n",
            "Epoch 22600 loss: 21.88809\n",
            "Epoch 22700 loss: 21.88600\n",
            "Epoch 22800 loss: 21.88396\n",
            "Epoch 22900 loss: 21.88198\n",
            "Epoch 23000 loss: 21.88004\n",
            "Epoch 23100 loss: 21.87814\n",
            "Epoch 23200 loss: 21.87629\n",
            "Epoch 23300 loss: 21.87449\n",
            "Epoch 23400 loss: 21.87272\n",
            "Epoch 23500 loss: 21.87100\n",
            "Epoch 23600 loss: 21.86932\n",
            "Epoch 23700 loss: 21.86768\n",
            "Epoch 23800 loss: 21.86608\n",
            "Epoch 23900 loss: 21.86452\n",
            "Epoch 24000 loss: 21.86299\n",
            "Epoch 24100 loss: 21.86150\n",
            "Epoch 24200 loss: 21.86004\n",
            "Epoch 24300 loss: 21.85863\n",
            "Epoch 24400 loss: 21.85723\n",
            "Epoch 24500 loss: 21.85589\n",
            "Epoch 24600 loss: 21.85456\n",
            "Epoch 24700 loss: 21.85327\n",
            "Epoch 24800 loss: 21.85201\n",
            "Epoch 24900 loss: 21.85078\n",
            "Epoch 25000 loss: 21.84958\n",
            "Epoch 25100 loss: 21.84841\n",
            "Epoch 25200 loss: 21.84727\n",
            "Epoch 25300 loss: 21.84615\n",
            "Epoch 25400 loss: 21.84506\n",
            "Epoch 25500 loss: 21.84400\n",
            "Epoch 25600 loss: 21.84296\n",
            "Epoch 25700 loss: 21.84194\n",
            "Epoch 25800 loss: 21.84096\n",
            "Epoch 25900 loss: 21.83999\n",
            "Epoch 26000 loss: 21.83904\n",
            "Epoch 26100 loss: 21.83812\n",
            "Epoch 26200 loss: 21.83722\n",
            "Epoch 26300 loss: 21.83635\n",
            "Epoch 26400 loss: 21.83549\n",
            "Epoch 26500 loss: 21.83465\n",
            "Epoch 26600 loss: 21.83384\n",
            "Epoch 26700 loss: 21.83304\n",
            "Epoch 26800 loss: 21.83226\n",
            "Epoch 26900 loss: 21.83150\n",
            "Epoch 27000 loss: 21.83076\n",
            "Epoch 27100 loss: 21.83004\n",
            "Epoch 27200 loss: 21.82933\n",
            "Epoch 27300 loss: 21.82863\n",
            "Epoch 27400 loss: 21.82796\n",
            "Epoch 27500 loss: 21.82731\n",
            "Epoch 27600 loss: 21.82666\n",
            "Epoch 27700 loss: 21.82603\n",
            "Epoch 27800 loss: 21.82542\n",
            "Epoch 27900 loss: 21.82483\n",
            "Epoch 28000 loss: 21.82425\n",
            "Epoch 28100 loss: 21.82368\n",
            "Epoch 28200 loss: 21.82312\n",
            "Epoch 28300 loss: 21.82258\n",
            "Epoch 28400 loss: 21.82205\n",
            "Epoch 28500 loss: 21.82153\n",
            "Epoch 28600 loss: 21.82102\n",
            "Epoch 28700 loss: 21.82053\n",
            "Epoch 28800 loss: 21.82005\n",
            "Epoch 28900 loss: 21.81958\n",
            "Epoch 29000 loss: 21.81912\n",
            "Epoch 29100 loss: 21.81867\n",
            "Epoch 29200 loss: 21.81824\n",
            "Epoch 29300 loss: 21.81781\n",
            "Epoch 29400 loss: 21.81739\n",
            "Epoch 29500 loss: 21.81699\n",
            "Epoch 29600 loss: 21.81659\n",
            "Epoch 29700 loss: 21.81620\n",
            "Epoch 29800 loss: 21.81582\n",
            "Epoch 29900 loss: 21.81545\n",
            "Epoch 30000 loss: 21.81509\n",
            "Epoch 30100 loss: 21.81474\n",
            "Epoch 30200 loss: 21.81440\n",
            "Epoch 30300 loss: 21.81407\n",
            "Epoch 30400 loss: 21.81373\n",
            "Epoch 30500 loss: 21.81342\n",
            "Epoch 30600 loss: 21.81310\n",
            "Epoch 30700 loss: 21.81280\n",
            "Epoch 30800 loss: 21.81250\n",
            "Epoch 30900 loss: 21.81221\n",
            "Epoch 31000 loss: 21.81193\n",
            "Epoch 31100 loss: 21.81165\n",
            "Epoch 31200 loss: 21.81138\n",
            "Epoch 31300 loss: 21.81112\n",
            "Epoch 31400 loss: 21.81086\n",
            "Epoch 31500 loss: 21.81061\n",
            "Epoch 31600 loss: 21.81036\n",
            "Epoch 31700 loss: 21.81012\n",
            "Epoch 31800 loss: 21.80989\n",
            "Epoch 31900 loss: 21.80966\n",
            "Epoch 32000 loss: 21.80944\n",
            "Epoch 32100 loss: 21.80922\n",
            "Epoch 32200 loss: 21.80901\n",
            "Epoch 32300 loss: 21.80880\n",
            "Epoch 32400 loss: 21.80860\n",
            "Epoch 32500 loss: 21.80840\n",
            "Epoch 32600 loss: 21.80821\n",
            "Epoch 32700 loss: 21.80802\n",
            "Epoch 32800 loss: 21.80783\n",
            "Epoch 32900 loss: 21.80766\n",
            "Epoch 33000 loss: 21.80748\n",
            "Epoch 33100 loss: 21.80731\n",
            "Epoch 33200 loss: 21.80714\n",
            "Epoch 33300 loss: 21.80698\n",
            "Epoch 33400 loss: 21.80682\n",
            "Epoch 33500 loss: 21.80666\n",
            "Epoch 33600 loss: 21.80651\n",
            "Epoch 33700 loss: 21.80636\n",
            "Epoch 33800 loss: 21.80622\n",
            "Epoch 33900 loss: 21.80608\n",
            "Epoch 34000 loss: 21.80594\n",
            "Epoch 34100 loss: 21.80581\n",
            "Epoch 34200 loss: 21.80567\n",
            "Epoch 34300 loss: 21.80555\n",
            "Epoch 34400 loss: 21.80542\n",
            "Epoch 34500 loss: 21.80530\n",
            "Epoch 34600 loss: 21.80518\n",
            "Epoch 34700 loss: 21.80506\n",
            "Epoch 34800 loss: 21.80495\n",
            "Epoch 34900 loss: 21.80484\n",
            "Epoch 35000 loss: 21.80473\n",
            "Epoch 35100 loss: 21.80462\n",
            "Epoch 35200 loss: 21.80452\n",
            "Epoch 35300 loss: 21.80442\n",
            "Epoch 35400 loss: 21.80432\n",
            "Epoch 35500 loss: 21.80423\n",
            "Epoch 35600 loss: 21.80413\n",
            "Epoch 35700 loss: 21.80404\n",
            "Epoch 35800 loss: 21.80395\n",
            "Epoch 35900 loss: 21.80387\n",
            "Epoch 36000 loss: 21.80378\n",
            "Epoch 36100 loss: 21.80370\n",
            "Epoch 36200 loss: 21.80361\n",
            "Epoch 36300 loss: 21.80353\n",
            "Epoch 36400 loss: 21.80346\n",
            "Epoch 36500 loss: 21.80338\n",
            "Epoch 36600 loss: 21.80331\n",
            "Epoch 36700 loss: 21.80324\n",
            "Epoch 36800 loss: 21.80316\n",
            "Epoch 36900 loss: 21.80310\n",
            "Epoch 37000 loss: 21.80303\n",
            "Epoch 37100 loss: 21.80296\n",
            "Epoch 37200 loss: 21.80290\n",
            "Epoch 37300 loss: 21.80284\n",
            "Epoch 37400 loss: 21.80278\n",
            "Epoch 37500 loss: 21.80272\n",
            "Epoch 37600 loss: 21.80266\n",
            "Epoch 37700 loss: 21.80260\n",
            "Epoch 37800 loss: 21.80255\n",
            "Epoch 37900 loss: 21.80250\n",
            "Epoch 38000 loss: 21.80244\n",
            "Epoch 38100 loss: 21.80239\n",
            "Epoch 38200 loss: 21.80234\n",
            "Epoch 38300 loss: 21.80229\n",
            "Epoch 38400 loss: 21.80224\n",
            "Epoch 38500 loss: 21.80220\n",
            "Epoch 38600 loss: 21.80215\n",
            "Epoch 38700 loss: 21.80210\n",
            "Epoch 38800 loss: 21.80206\n",
            "Epoch 38900 loss: 21.80202\n",
            "Epoch 39000 loss: 21.80198\n",
            "Epoch 39100 loss: 21.80194\n",
            "Epoch 39200 loss: 21.80190\n",
            "Epoch 39300 loss: 21.80186\n",
            "Epoch 39400 loss: 21.80182\n",
            "Epoch 39500 loss: 21.80179\n",
            "Epoch 39600 loss: 21.80175\n",
            "Epoch 39700 loss: 21.80172\n",
            "Epoch 39800 loss: 21.80168\n",
            "Epoch 39900 loss: 21.80165\n",
            "Epoch 40000 loss: 21.80161\n",
            "Epoch 40100 loss: 21.80158\n",
            "Epoch 40200 loss: 21.80155\n",
            "Epoch 40300 loss: 21.80152\n",
            "Epoch 40400 loss: 21.80149\n",
            "Epoch 40500 loss: 21.80146\n",
            "Epoch 40600 loss: 21.80144\n",
            "Epoch 40700 loss: 21.80141\n",
            "Epoch 40800 loss: 21.80138\n",
            "Epoch 40900 loss: 21.80136\n",
            "Epoch 41000 loss: 21.80133\n",
            "Epoch 41100 loss: 21.80130\n",
            "Epoch 41200 loss: 21.80128\n",
            "Epoch 41300 loss: 21.80125\n",
            "Epoch 41400 loss: 21.80123\n",
            "Epoch 41500 loss: 21.80121\n",
            "Epoch 41600 loss: 21.80119\n",
            "Epoch 41700 loss: 21.80117\n",
            "Epoch 41800 loss: 21.80114\n",
            "Epoch 41900 loss: 21.80112\n",
            "Epoch 42000 loss: 21.80110\n",
            "Epoch 42100 loss: 21.80108\n",
            "Epoch 42200 loss: 21.80107\n",
            "Epoch 42300 loss: 21.80105\n",
            "Epoch 42400 loss: 21.80103\n",
            "Epoch 42500 loss: 21.80101\n",
            "Epoch 42600 loss: 21.80099\n",
            "Epoch 42700 loss: 21.80098\n",
            "Epoch 42800 loss: 21.80096\n",
            "Epoch 42900 loss: 21.80094\n",
            "Epoch 43000 loss: 21.80093\n",
            "Epoch 43100 loss: 21.80091\n",
            "Epoch 43200 loss: 21.80090\n",
            "Epoch 43300 loss: 21.80088\n",
            "Epoch 43400 loss: 21.80087\n",
            "Epoch 43500 loss: 21.80085\n",
            "Epoch 43600 loss: 21.80084\n",
            "Epoch 43700 loss: 21.80083\n",
            "Epoch 43800 loss: 21.80082\n",
            "Epoch 43900 loss: 21.80080\n",
            "Epoch 44000 loss: 21.80079\n",
            "Epoch 44100 loss: 21.80078\n",
            "Epoch 44200 loss: 21.80077\n",
            "Epoch 44300 loss: 21.80075\n",
            "Epoch 44400 loss: 21.80074\n",
            "Epoch 44500 loss: 21.80073\n",
            "Epoch 44600 loss: 21.80072\n",
            "Epoch 44700 loss: 21.80071\n",
            "Epoch 44800 loss: 21.80070\n",
            "Epoch 44900 loss: 21.80069\n",
            "Epoch 45000 loss: 21.80068\n",
            "Epoch 45100 loss: 21.80067\n",
            "Epoch 45200 loss: 21.80066\n",
            "Epoch 45300 loss: 21.80065\n",
            "Epoch 45400 loss: 21.80064\n",
            "Epoch 45500 loss: 21.80063\n",
            "Epoch 45600 loss: 21.80062\n",
            "Epoch 45700 loss: 21.80062\n",
            "Epoch 45800 loss: 21.80061\n",
            "Epoch 45900 loss: 21.80060\n",
            "Epoch 46000 loss: 21.80059\n",
            "Epoch 46100 loss: 21.80058\n",
            "Epoch 46200 loss: 21.80058\n",
            "Epoch 46300 loss: 21.80057\n",
            "Epoch 46400 loss: 21.80056\n",
            "Epoch 46500 loss: 21.80056\n",
            "Epoch 46600 loss: 21.80055\n",
            "Epoch 46700 loss: 21.80054\n",
            "Epoch 46800 loss: 21.80054\n",
            "Epoch 46900 loss: 21.80053\n",
            "Epoch 47000 loss: 21.80053\n",
            "Epoch 47100 loss: 21.80052\n",
            "Epoch 47200 loss: 21.80051\n",
            "Epoch 47300 loss: 21.80051\n",
            "Epoch 47400 loss: 21.80050\n",
            "Epoch 47500 loss: 21.80050\n",
            "Epoch 47600 loss: 21.80049\n",
            "Epoch 47700 loss: 21.80049\n",
            "Epoch 47800 loss: 21.80048\n",
            "Epoch 47900 loss: 21.80048\n",
            "Epoch 48000 loss: 21.80047\n",
            "Epoch 48100 loss: 21.80047\n",
            "Epoch 48200 loss: 21.80046\n",
            "Epoch 48300 loss: 21.80046\n",
            "Epoch 48400 loss: 21.80046\n",
            "Epoch 48500 loss: 21.80045\n",
            "Epoch 48600 loss: 21.80045\n",
            "Epoch 48700 loss: 21.80044\n",
            "Epoch 48800 loss: 21.80044\n",
            "Epoch 48900 loss: 21.80043\n",
            "Epoch 49000 loss: 21.80043\n",
            "Epoch 49100 loss: 21.80043\n",
            "Epoch 49200 loss: 21.80042\n",
            "Epoch 49300 loss: 21.80042\n",
            "Epoch 49400 loss: 21.80042\n",
            "Epoch 49500 loss: 21.80041\n",
            "Epoch 49600 loss: 21.80041\n",
            "Epoch 49700 loss: 21.80041\n",
            "Epoch 49800 loss: 21.80041\n",
            "Epoch 49900 loss: 21.80040\n"
          ]
        }
      ]
    },
    {
      "cell_type": "code",
      "source": [
        "# 回帰直線の算出\n",
        "# xの最小値、最大値\n",
        "xse = np.array((x.min(), x.max())).reshape(-1,1)\n",
        "Xse = torch.tensor(xse).float()\n",
        "\n",
        "with torch.no_grad():\n",
        "  Yse = net(Xse)\n",
        "\n",
        "print(Xse)\n",
        "print(Yse.numpy())"
      ],
      "metadata": {
        "colab": {
          "base_uri": "https://localhost:8080/"
        },
        "id": "zB1BjwEI9oFW",
        "outputId": "7cb79ef0-bde5-4f0e-f359-35fbd5b34551"
      },
      "execution_count": 39,
      "outputs": [
        {
          "output_type": "stream",
          "name": "stdout",
          "text": [
            "tensor([[3.5610],\n",
            "        [8.7800]])\n",
            "[[-2.1963615]\n",
            " [45.19265  ]]\n"
          ]
        }
      ]
    },
    {
      "cell_type": "code",
      "source": [
        "# 散布図と回帰直線\n",
        "plt.scatter(x, yt, s=10, c=\"b\")\n",
        "plt.xlabel(\"部屋数\")\n",
        "plt.ylabel(\"価格\")\n",
        "plt.plot(Xse.data, Yse.data, c=\"k\")\n",
        "plt.show()"
      ],
      "metadata": {
        "colab": {
          "base_uri": "https://localhost:8080/",
          "height": 448
        },
        "id": "ciaYfj--7_8k",
        "outputId": "4d3efe0b-1942-41a4-acd2-8d23e13cf9aa"
      },
      "execution_count": 40,
      "outputs": [
        {
          "output_type": "display_data",
          "data": {
            "text/plain": [
              "<Figure size 640x480 with 1 Axes>"
            ],
            "image/png": "[encoded data removed]"
          },
          "metadata": {}
        }
      ]
    },
    {
      "cell_type": "code",
      "source": [
        "# 列LSTAT: 低所得者率 の追加\n",
        "x_add = x_org[:, feature_names == \"LSTAT\"]\n",
        "x2 = np.hstack((x, x_add))\n",
        "print(x2.shape)\n",
        "print(x2[:5, :])"
      ],
      "metadata": {
        "colab": {
          "base_uri": "https://localhost:8080/"
        },
        "id": "VTFaR-zY93gv",
        "outputId": "e97f554a-8837-4663-d7a6-2fdc54474c1e"
      },
      "execution_count": 42,
      "outputs": [
        {
          "output_type": "stream",
          "name": "stdout",
          "text": [
            "(506, 2)\n",
            "[[6.575 4.98 ]\n",
            " [6.421 9.14 ]\n",
            " [7.185 4.03 ]\n",
            " [6.998 2.94 ]\n",
            " [7.147 5.33 ]]\n"
          ]
        }
      ]
    },
    {
      "cell_type": "code",
      "source": [
        "# 次元数2\n",
        "n_input = x2.shape[1]\n",
        "net = Net(n_input, n_output)"
      ],
      "metadata": {
        "id": "AHIYH8kc_nca"
      },
      "execution_count": 43,
      "outputs": []
    },
    {
      "cell_type": "code",
      "source": [
        "for param in net.named_parameters():\n",
        "    print(f\"変数名: {param[0]}\")\n",
        "    print(f\"変数値: {param[1]}\")"
      ],
      "metadata": {
        "colab": {
          "base_uri": "https://localhost:8080/"
        },
        "id": "2RH0xCyn_8J-",
        "outputId": "9bf63049-a243-4ba5-b779-b1d4bff6ff6e"
      },
      "execution_count": 44,
      "outputs": [
        {
          "output_type": "stream",
          "name": "stdout",
          "text": [
            "変数名: l1.weight\n",
            "変数値: Parameter containing:\n",
            "tensor([[1., 1.]], requires_grad=True)\n",
            "変数名: l1.bias\n",
            "変数値: Parameter containing:\n",
            "tensor([1.], requires_grad=True)\n"
          ]
        }
      ]
    },
    {
      "cell_type": "code",
      "source": [
        "inputs = torch.tensor(x2).float()"
      ],
      "metadata": {
        "id": "mt11t_CxANOH"
      },
      "execution_count": 45,
      "outputs": []
    },
    {
      "cell_type": "code",
      "source": [
        "lr = 0.01\n",
        "# 損失関数\n",
        "criterion = nn.MSELoss()\n",
        "# 最適化関数\n",
        "optimizer = optim.SGD(net.parameters(), lr=lr)\n",
        "num_epochs = 50000\n",
        "# 損失記録用\n",
        "history = np.zeros((0, 2))"
      ],
      "metadata": {
        "id": "otAdinavAfB_"
      },
      "execution_count": 47,
      "outputs": []
    },
    {
      "cell_type": "code",
      "source": [
        "for epoch in range(num_epochs):\n",
        "    # 勾配値初期化\n",
        "    optimizer.zero_grad()\n",
        "    # 予測\n",
        "    outputs = net(inputs)\n",
        "    # 損失計算\n",
        "    loss = criterion(outputs, labels1) / 2.0\n",
        "    # 勾配計算\n",
        "    loss.backward()\n",
        "    # パラメタ更新\n",
        "    optimizer.step()\n",
        "\n",
        "    if (epoch % 100 == 0):\n",
        "        loss_item = loss.item()\n",
        "        history = np.vstack((history, np.array([epoch, loss_item])))\n",
        "        print(f\"Epoch {epoch} loss: {loss_item:.5f}\")"
      ],
      "metadata": {
        "colab": {
          "base_uri": "https://localhost:8080/",
          "height": 1000
        },
        "id": "KYhsbKWcAn_j",
        "outputId": "922f07dc-c0ad-48e2-e798-c8f5444e43d8"
      },
      "execution_count": 48,
      "outputs": [
        {
          "output_type": "stream",
          "name": "stdout",
          "text": [
            "Epoch 0 loss: 112.06398\n",
            "Epoch 100 loss: 3753837073642659568666615480320.00000\n",
            "Epoch 200 loss: inf\n",
            "Epoch 300 loss: nan\n",
            "Epoch 400 loss: nan\n",
            "Epoch 500 loss: nan\n",
            "Epoch 600 loss: nan\n",
            "Epoch 700 loss: nan\n",
            "Epoch 800 loss: nan\n",
            "Epoch 900 loss: nan\n",
            "Epoch 1000 loss: nan\n",
            "Epoch 1100 loss: nan\n",
            "Epoch 1200 loss: nan\n",
            "Epoch 1300 loss: nan\n",
            "Epoch 1400 loss: nan\n",
            "Epoch 1500 loss: nan\n",
            "Epoch 1600 loss: nan\n",
            "Epoch 1700 loss: nan\n",
            "Epoch 1800 loss: nan\n",
            "Epoch 1900 loss: nan\n",
            "Epoch 2000 loss: nan\n",
            "Epoch 2100 loss: nan\n",
            "Epoch 2200 loss: nan\n",
            "Epoch 2300 loss: nan\n",
            "Epoch 2400 loss: nan\n",
            "Epoch 2500 loss: nan\n",
            "Epoch 2600 loss: nan\n",
            "Epoch 2700 loss: nan\n",
            "Epoch 2800 loss: nan\n",
            "Epoch 2900 loss: nan\n",
            "Epoch 3000 loss: nan\n",
            "Epoch 3100 loss: nan\n",
            "Epoch 3200 loss: nan\n",
            "Epoch 3300 loss: nan\n",
            "Epoch 3400 loss: nan\n",
            "Epoch 3500 loss: nan\n",
            "Epoch 3600 loss: nan\n",
            "Epoch 3700 loss: nan\n",
            "Epoch 3800 loss: nan\n",
            "Epoch 3900 loss: nan\n"
          ]
        },
        {
          "output_type": "error",
          "ename": "KeyboardInterrupt",
          "evalue": "",
          "traceback": [
            "\u001b[0;31m---------------------------------------------------------------------------\u001b[0m",
            "\u001b[0;31mKeyboardInterrupt\u001b[0m                         Traceback (most recent call last)",
            "\u001b[0;32m<ipython-input-48-2b487b8a0eb7>\u001b[0m in \u001b[0;36m<cell line: 1>\u001b[0;34m()\u001b[0m\n\u001b[1;32m      7\u001b[0m     \u001b[0mloss\u001b[0m \u001b[0;34m=\u001b[0m \u001b[0mcriterion\u001b[0m\u001b[0;34m(\u001b[0m\u001b[0moutputs\u001b[0m\u001b[0;34m,\u001b[0m \u001b[0mlabels1\u001b[0m\u001b[0;34m)\u001b[0m \u001b[0;34m/\u001b[0m \u001b[0;36m2.0\u001b[0m\u001b[0;34m\u001b[0m\u001b[0;34m\u001b[0m\u001b[0m\n\u001b[1;32m      8\u001b[0m     \u001b[0;31m# 勾配計算\u001b[0m\u001b[0;34m\u001b[0m\u001b[0;34m\u001b[0m\u001b[0m\n\u001b[0;32m----> 9\u001b[0;31m     \u001b[0mloss\u001b[0m\u001b[0;34m.\u001b[0m\u001b[0mbackward\u001b[0m\u001b[0;34m(\u001b[0m\u001b[0;34m)\u001b[0m\u001b[0;34m\u001b[0m\u001b[0;34m\u001b[0m\u001b[0m\n\u001b[0m\u001b[1;32m     10\u001b[0m     \u001b[0;31m# パラメタ更新\u001b[0m\u001b[0;34m\u001b[0m\u001b[0;34m\u001b[0m\u001b[0m\n\u001b[1;32m     11\u001b[0m     \u001b[0moptimizer\u001b[0m\u001b[0;34m.\u001b[0m\u001b[0mstep\u001b[0m\u001b[0;34m(\u001b[0m\u001b[0;34m)\u001b[0m\u001b[0;34m\u001b[0m\u001b[0;34m\u001b[0m\u001b[0m\n",
            "\u001b[0;32m/usr/local/lib/python3.10/dist-packages/torch/_tensor.py\u001b[0m in \u001b[0;36mbackward\u001b[0;34m(self, gradient, retain_graph, create_graph, inputs)\u001b[0m\n\u001b[1;32m    520\u001b[0m                 \u001b[0minputs\u001b[0m\u001b[0;34m=\u001b[0m\u001b[0minputs\u001b[0m\u001b[0;34m,\u001b[0m\u001b[0;34m\u001b[0m\u001b[0;34m\u001b[0m\u001b[0m\n\u001b[1;32m    521\u001b[0m             )\n\u001b[0;32m--> 522\u001b[0;31m         torch.autograd.backward(\n\u001b[0m\u001b[1;32m    523\u001b[0m             \u001b[0mself\u001b[0m\u001b[0;34m,\u001b[0m \u001b[0mgradient\u001b[0m\u001b[0;34m,\u001b[0m \u001b[0mretain_graph\u001b[0m\u001b[0;34m,\u001b[0m \u001b[0mcreate_graph\u001b[0m\u001b[0;34m,\u001b[0m \u001b[0minputs\u001b[0m\u001b[0;34m=\u001b[0m\u001b[0minputs\u001b[0m\u001b[0;34m\u001b[0m\u001b[0;34m\u001b[0m\u001b[0m\n\u001b[1;32m    524\u001b[0m         )\n",
            "\u001b[0;32m/usr/local/lib/python3.10/dist-packages/torch/autograd/__init__.py\u001b[0m in \u001b[0;36mbackward\u001b[0;34m(tensors, grad_tensors, retain_graph, create_graph, grad_variables, inputs)\u001b[0m\n\u001b[1;32m    264\u001b[0m     \u001b[0;31m# some Python versions print out the first line of a multi-line function\u001b[0m\u001b[0;34m\u001b[0m\u001b[0;34m\u001b[0m\u001b[0m\n\u001b[1;32m    265\u001b[0m     \u001b[0;31m# calls in the traceback and some print out the last line\u001b[0m\u001b[0;34m\u001b[0m\u001b[0;34m\u001b[0m\u001b[0m\n\u001b[0;32m--> 266\u001b[0;31m     Variable._execution_engine.run_backward(  # Calls into the C++ engine to run the backward pass\n\u001b[0m\u001b[1;32m    267\u001b[0m         \u001b[0mtensors\u001b[0m\u001b[0;34m,\u001b[0m\u001b[0;34m\u001b[0m\u001b[0;34m\u001b[0m\u001b[0m\n\u001b[1;32m    268\u001b[0m         \u001b[0mgrad_tensors_\u001b[0m\u001b[0;34m,\u001b[0m\u001b[0;34m\u001b[0m\u001b[0;34m\u001b[0m\u001b[0m\n",
            "\u001b[0;31mKeyboardInterrupt\u001b[0m: "
          ]
        }
      ]
    },
    {
      "cell_type": "code",
      "source": [
        "# 学習率が大き過ぎるので発散した. 再設定する\n",
        "num_epochs = 2000\n",
        "lr = 0.001\n",
        "net = Net(n_input, n_output)\n",
        "optimizer = optim.SGD(net.parameters(), lr=lr)\n",
        "criterion = nn.MSELoss()\n",
        "history = np.zeros((0, 2))"
      ],
      "metadata": {
        "id": "cIsVKCc3A-iv"
      },
      "execution_count": 51,
      "outputs": []
    },
    {
      "cell_type": "code",
      "source": [
        "for epoch in range(num_epochs):\n",
        "    # 勾配値初期化\n",
        "    optimizer.zero_grad()\n",
        "    # 予測\n",
        "    outputs = net(inputs)\n",
        "    # 損失計算\n",
        "    loss = criterion(outputs, labels1) / 2.0\n",
        "    # 勾配計算\n",
        "    loss.backward()\n",
        "    # パラメタ更新\n",
        "    optimizer.step()\n",
        "\n",
        "    if (epoch % 100 == 0):\n",
        "        loss_item = loss.item()\n",
        "        history = np.vstack((history, np.array([epoch, loss_item])))\n",
        "        print(f\"Epoch {epoch} loss: {loss_item:.5f}\")"
      ],
      "metadata": {
        "colab": {
          "base_uri": "https://localhost:8080/"
        },
        "id": "LkeS3a9LBjIi",
        "outputId": "ec70f52c-b011-458a-bf25-641a20dbb75e"
      },
      "execution_count": 52,
      "outputs": [
        {
          "output_type": "stream",
          "name": "stdout",
          "text": [
            "Epoch 0 loss: 112.06398\n",
            "Epoch 100 loss: 25.35892\n",
            "Epoch 200 loss: 16.39105\n",
            "Epoch 300 loss: 15.40301\n",
            "Epoch 400 loss: 15.29414\n",
            "Epoch 500 loss: 15.28211\n",
            "Epoch 600 loss: 15.28076\n",
            "Epoch 700 loss: 15.28059\n",
            "Epoch 800 loss: 15.28054\n",
            "Epoch 900 loss: 15.28051\n",
            "Epoch 1000 loss: 15.28048\n",
            "Epoch 1100 loss: 15.28046\n",
            "Epoch 1200 loss: 15.28043\n",
            "Epoch 1300 loss: 15.28040\n",
            "Epoch 1400 loss: 15.28037\n",
            "Epoch 1500 loss: 15.28034\n",
            "Epoch 1600 loss: 15.28031\n",
            "Epoch 1700 loss: 15.28028\n",
            "Epoch 1800 loss: 15.28026\n",
            "Epoch 1900 loss: 15.28023\n"
          ]
        }
      ]
    }
  ]
}