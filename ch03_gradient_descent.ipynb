{
  "nbformat": 4,
  "nbformat_minor": 0,
  "metadata": {
    "colab": {
      "provenance": [],
      "toc_visible": true,
      "authorship_tag": "ABX9TyMiiap+aEXZxr/PNtnIfaZt",
      "include_colab_link": true
    },
    "kernelspec": {
      "name": "python3",
      "display_name": "Python 3"
    },
    "language_info": {
      "name": "python"
    }
  },
  "cells": [
    {
      "cell_type": "markdown",
      "metadata": {
        "id": "view-in-github",
        "colab_type": "text"
      },
      "source": [
        "<a href=\"https://colab.research.google.com/github/YasudaKaito/pytorch_book_akaishi/blob/main/ch03_gradient_descent.ipynb\" target=\"_parent\"><img src=\"https://colab.research.google.com/assets/colab-badge.svg\" alt=\"Open In Colab\"/></a>"
      ]
    },
    {
      "cell_type": "markdown",
      "source": [
        "# 3.3 勾配降下法\n",
        "\n",
        "- 山登りの比喩\n",
        "  - 山の高度(計)=損失\n",
        "  - 山の南北、東西のそれぞれの勾配=損失の勾配\n",
        "  - 位置の移動=パラメータ修正\n"
      ],
      "metadata": {
        "id": "-lQpIm9hhjud"
      }
    },
    {
      "cell_type": "markdown",
      "source": [
        "# 3.5 ~"
      ],
      "metadata": {
        "id": "j2Nd5hrEwFC4"
      }
    },
    {
      "cell_type": "code",
      "source": [
        "import numpy as np"
      ],
      "metadata": {
        "id": "ncMrVqwNwHrp"
      },
      "execution_count": 2,
      "outputs": []
    },
    {
      "cell_type": "code",
      "source": [
        "# 身長と体重\n",
        "sampleData1 = np.array([\n",
        "    [166, 58.7],\n",
        "    [176.0, 75.7],\n",
        "    [171.0, 62.1],\n",
        "    [173.0, 70.4],\n",
        "    [169.0, 60.1]\n",
        "])"
      ],
      "metadata": {
        "id": "u6eWxnbcwZgx"
      },
      "execution_count": 3,
      "outputs": []
    },
    {
      "cell_type": "code",
      "source": [
        "x = sampleData1[:, 0]\n",
        "y = sampleData1[:, 1]"
      ],
      "metadata": {
        "id": "68xV3IVowo4h"
      },
      "execution_count": 4,
      "outputs": []
    },
    {
      "cell_type": "code",
      "source": [
        "# 勾配降下法では対象となる数値は絶対値が1以下である小さな値のほうが望ましい\n",
        "# 平均を引くことでやりやすくする\n",
        "X = x - x.mean()\n",
        "Y = y - y.mean()"
      ],
      "metadata": {
        "id": "v0Y69ZhtwvaB"
      },
      "execution_count": 5,
      "outputs": []
    },
    {
      "cell_type": "code",
      "source": [
        "import matplotlib.pyplot as plt"
      ],
      "metadata": {
        "id": "QSvwsDvVxUrW"
      },
      "execution_count": 6,
      "outputs": []
    },
    {
      "cell_type": "code",
      "source": [
        "import torch"
      ],
      "metadata": {
        "id": "JKAtuEcWxJqq"
      },
      "execution_count": 7,
      "outputs": []
    },
    {
      "cell_type": "code",
      "source": [
        "X = torch.tensor(X).float()\n",
        "Y = torch.tensor(Y).float()"
      ],
      "metadata": {
        "id": "mtYODFBTxqSy"
      },
      "execution_count": 8,
      "outputs": []
    },
    {
      "cell_type": "code",
      "source": [
        "W = torch.tensor(1.0, requires_grad=True).float()\n",
        "B = torch.tensor(1.0, requires_grad=True).float()"
      ],
      "metadata": {
        "id": "_zMmsLmXxw3Y"
      },
      "execution_count": 9,
      "outputs": []
    },
    {
      "cell_type": "code",
      "source": [
        "def pred(X):\n",
        "    return W * X + B"
      ],
      "metadata": {
        "id": "SUw-RZGgx9sT"
      },
      "execution_count": 10,
      "outputs": []
    },
    {
      "cell_type": "code",
      "source": [
        "Yp = pred(X)\n",
        "print(Yp)"
      ],
      "metadata": {
        "colab": {
          "base_uri": "https://localhost:8080/"
        },
        "id": "rSdtcKZMyFCj",
        "outputId": "be2a4cfd-289d-4b59-890e-912b11f4ce55"
      },
      "execution_count": 11,
      "outputs": [
        {
          "output_type": "stream",
          "name": "stdout",
          "text": [
            "tensor([-4.,  6.,  1.,  3., -1.], grad_fn=<AddBackward0>)\n"
          ]
        }
      ]
    },
    {
      "cell_type": "code",
      "source": [
        "!pip install torchviz"
      ],
      "metadata": {
        "colab": {
          "base_uri": "https://localhost:8080/"
        },
        "id": "zxzyZQt8yIOW",
        "outputId": "be8eeacb-58bf-4f85-a4c5-df9328e09b0a"
      },
      "execution_count": 13,
      "outputs": [
        {
          "output_type": "stream",
          "name": "stdout",
          "text": [
            "Collecting torchviz\n",
            "  Using cached torchviz-0.0.2.tar.gz (4.9 kB)\n",
            "  Preparing metadata (setup.py) ... \u001b[?25l\u001b[?25hdone\n",
            "Requirement already satisfied: torch in /usr/local/lib/python3.10/dist-packages (from torchviz) (2.2.1+cu121)\n",
            "Requirement already satisfied: graphviz in /usr/local/lib/python3.10/dist-packages (from torchviz) (0.20.3)\n",
            "Requirement already satisfied: filelock in /usr/local/lib/python3.10/dist-packages (from torch->torchviz) (3.13.3)\n",
            "Requirement already satisfied: typing-extensions>=4.8.0 in /usr/local/lib/python3.10/dist-packages (from torch->torchviz) (4.10.0)\n",
            "Requirement already satisfied: sympy in /usr/local/lib/python3.10/dist-packages (from torch->torchviz) (1.12)\n",
            "Requirement already satisfied: networkx in /usr/local/lib/python3.10/dist-packages (from torch->torchviz) (3.2.1)\n",
            "Requirement already satisfied: jinja2 in /usr/local/lib/python3.10/dist-packages (from torch->torchviz) (3.1.3)\n",
            "Requirement already satisfied: fsspec in /usr/local/lib/python3.10/dist-packages (from torch->torchviz) (2023.6.0)\n",
            "Collecting nvidia-cuda-nvrtc-cu12==12.1.105 (from torch->torchviz)\n",
            "  Using cached nvidia_cuda_nvrtc_cu12-12.1.105-py3-none-manylinux1_x86_64.whl (23.7 MB)\n",
            "Collecting nvidia-cuda-runtime-cu12==12.1.105 (from torch->torchviz)\n",
            "  Using cached nvidia_cuda_runtime_cu12-12.1.105-py3-none-manylinux1_x86_64.whl (823 kB)\n",
            "Collecting nvidia-cuda-cupti-cu12==12.1.105 (from torch->torchviz)\n",
            "  Using cached nvidia_cuda_cupti_cu12-12.1.105-py3-none-manylinux1_x86_64.whl (14.1 MB)\n",
            "Collecting nvidia-cudnn-cu12==8.9.2.26 (from torch->torchviz)\n",
            "  Downloading nvidia_cudnn_cu12-8.9.2.26-py3-none-manylinux1_x86_64.whl (731.7 MB)\n",
            "\u001b[2K     \u001b[90m━━━━━━━━━━━━━━━━━━━━━━━━━━━━━━━━━━━━━━━━\u001b[0m \u001b[32m731.7/731.7 MB\u001b[0m \u001b[31m1.6 MB/s\u001b[0m eta \u001b[36m0:00:00\u001b[0m\n",
            "\u001b[?25hCollecting nvidia-cublas-cu12==12.1.3.1 (from torch->torchviz)\n",
            "  Downloading nvidia_cublas_cu12-12.1.3.1-py3-none-manylinux1_x86_64.whl (410.6 MB)\n",
            "\u001b[2K     \u001b[90m━━━━━━━━━━━━━━━━━━━━━━━━━━━━━━━━━━━━━━━━\u001b[0m \u001b[32m410.6/410.6 MB\u001b[0m \u001b[31m1.3 MB/s\u001b[0m eta \u001b[36m0:00:00\u001b[0m\n",
            "\u001b[?25hCollecting nvidia-cufft-cu12==11.0.2.54 (from torch->torchviz)\n",
            "  Downloading nvidia_cufft_cu12-11.0.2.54-py3-none-manylinux1_x86_64.whl (121.6 MB)\n",
            "\u001b[2K     \u001b[90m━━━━━━━━━━━━━━━━━━━━━━━━━━━━━━━━━━━━━━━━\u001b[0m \u001b[32m121.6/121.6 MB\u001b[0m \u001b[31m8.1 MB/s\u001b[0m eta \u001b[36m0:00:00\u001b[0m\n",
            "\u001b[?25hCollecting nvidia-curand-cu12==10.3.2.106 (from torch->torchviz)\n",
            "  Downloading nvidia_curand_cu12-10.3.2.106-py3-none-manylinux1_x86_64.whl (56.5 MB)\n",
            "\u001b[2K     \u001b[90m━━━━━━━━━━━━━━━━━━━━━━━━━━━━━━━━━━━━━━━━\u001b[0m \u001b[32m56.5/56.5 MB\u001b[0m \u001b[31m10.0 MB/s\u001b[0m eta \u001b[36m0:00:00\u001b[0m\n",
            "\u001b[?25hCollecting nvidia-cusolver-cu12==11.4.5.107 (from torch->torchviz)\n",
            "  Downloading nvidia_cusolver_cu12-11.4.5.107-py3-none-manylinux1_x86_64.whl (124.2 MB)\n",
            "\u001b[2K     \u001b[90m━━━━━━━━━━━━━━━━━━━━━━━━━━━━━━━━━━━━━━━━\u001b[0m \u001b[32m124.2/124.2 MB\u001b[0m \u001b[31m5.9 MB/s\u001b[0m eta \u001b[36m0:00:00\u001b[0m\n",
            "\u001b[?25hCollecting nvidia-cusparse-cu12==12.1.0.106 (from torch->torchviz)\n",
            "  Downloading nvidia_cusparse_cu12-12.1.0.106-py3-none-manylinux1_x86_64.whl (196.0 MB)\n",
            "\u001b[2K     \u001b[90m━━━━━━━━━━━━━━━━━━━━━━━━━━━━━━━━━━━━━━━━\u001b[0m \u001b[32m196.0/196.0 MB\u001b[0m \u001b[31m2.3 MB/s\u001b[0m eta \u001b[36m0:00:00\u001b[0m\n",
            "\u001b[?25hCollecting nvidia-nccl-cu12==2.19.3 (from torch->torchviz)\n",
            "  Downloading nvidia_nccl_cu12-2.19.3-py3-none-manylinux1_x86_64.whl (166.0 MB)\n",
            "\u001b[2K     \u001b[90m━━━━━━━━━━━━━━━━━━━━━━━━━━━━━━━━━━━━━━━━\u001b[0m \u001b[32m166.0/166.0 MB\u001b[0m \u001b[31m6.0 MB/s\u001b[0m eta \u001b[36m0:00:00\u001b[0m\n",
            "\u001b[?25hCollecting nvidia-nvtx-cu12==12.1.105 (from torch->torchviz)\n",
            "  Downloading nvidia_nvtx_cu12-12.1.105-py3-none-manylinux1_x86_64.whl (99 kB)\n",
            "\u001b[2K     \u001b[90m━━━━━━━━━━━━━━━━━━━━━━━━━━━━━━━━━━━━━━━━\u001b[0m \u001b[32m99.1/99.1 kB\u001b[0m \u001b[31m6.4 MB/s\u001b[0m eta \u001b[36m0:00:00\u001b[0m\n",
            "\u001b[?25hRequirement already satisfied: triton==2.2.0 in /usr/local/lib/python3.10/dist-packages (from torch->torchviz) (2.2.0)\n",
            "Collecting nvidia-nvjitlink-cu12 (from nvidia-cusolver-cu12==11.4.5.107->torch->torchviz)\n",
            "  Downloading nvidia_nvjitlink_cu12-12.4.99-py3-none-manylinux2014_x86_64.whl (21.1 MB)\n",
            "\u001b[2K     \u001b[90m━━━━━━━━━━━━━━━━━━━━━━━━━━━━━━━━━━━━━━━━\u001b[0m \u001b[32m21.1/21.1 MB\u001b[0m \u001b[31m33.8 MB/s\u001b[0m eta \u001b[36m0:00:00\u001b[0m\n",
            "\u001b[?25hRequirement already satisfied: MarkupSafe>=2.0 in /usr/local/lib/python3.10/dist-packages (from jinja2->torch->torchviz) (2.1.5)\n",
            "Requirement already satisfied: mpmath>=0.19 in /usr/local/lib/python3.10/dist-packages (from sympy->torch->torchviz) (1.3.0)\n",
            "Building wheels for collected packages: torchviz\n",
            "  Building wheel for torchviz (setup.py) ... \u001b[?25l\u001b[?25hdone\n",
            "  Created wheel for torchviz: filename=torchviz-0.0.2-py3-none-any.whl size=4132 sha256=59844b2f4272c4e6b0fd5667b4072e5bb739afab8ecf2ad59c28ca2385561aa6\n",
            "  Stored in directory: /root/.cache/pip/wheels/4c/97/88/a02973217949e0db0c9f4346d154085f4725f99c4f15a87094\n",
            "Successfully built torchviz\n",
            "Installing collected packages: nvidia-nvtx-cu12, nvidia-nvjitlink-cu12, nvidia-nccl-cu12, nvidia-curand-cu12, nvidia-cufft-cu12, nvidia-cuda-runtime-cu12, nvidia-cuda-nvrtc-cu12, nvidia-cuda-cupti-cu12, nvidia-cublas-cu12, nvidia-cusparse-cu12, nvidia-cudnn-cu12, nvidia-cusolver-cu12, torchviz\n",
            "Successfully installed nvidia-cublas-cu12-12.1.3.1 nvidia-cuda-cupti-cu12-12.1.105 nvidia-cuda-nvrtc-cu12-12.1.105 nvidia-cuda-runtime-cu12-12.1.105 nvidia-cudnn-cu12-8.9.2.26 nvidia-cufft-cu12-11.0.2.54 nvidia-curand-cu12-10.3.2.106 nvidia-cusolver-cu12-11.4.5.107 nvidia-cusparse-cu12-12.1.0.106 nvidia-nccl-cu12-2.19.3 nvidia-nvjitlink-cu12-12.4.99 nvidia-nvtx-cu12-12.1.105 torchviz-0.0.2\n"
          ]
        }
      ]
    },
    {
      "cell_type": "code",
      "source": [
        "# 損失はMSE\n",
        "def mse(Yp, Y):\n",
        "    loss = ((Yp - Y)**2).mean()\n",
        "    return loss"
      ],
      "metadata": {
        "id": "xd_IuVdiyYLl"
      },
      "execution_count": 14,
      "outputs": []
    },
    {
      "cell_type": "code",
      "source": [
        "loss = mse(Yp, Y)\n",
        "print(loss)"
      ],
      "metadata": {
        "colab": {
          "base_uri": "https://localhost:8080/"
        },
        "id": "R-90wltpyt7h",
        "outputId": "83582429-22c3-40d7-bde0-ec2b0e3b0c41"
      },
      "execution_count": 15,
      "outputs": [
        {
          "output_type": "stream",
          "name": "stdout",
          "text": [
            "tensor(13.3520, grad_fn=<MeanBackward0>)\n"
          ]
        }
      ]
    },
    {
      "cell_type": "code",
      "source": [
        "from torchviz import make_dot\n",
        "params = {\"W\": W, \"B\": B}\n",
        "g = make_dot(loss, params=params)\n",
        "display(g)"
      ],
      "metadata": {
        "colab": {
          "base_uri": "https://localhost:8080/",
          "height": 616
        },
        "id": "xKpnpfsvzCni",
        "outputId": "6acaa345-5060-4f25-afc6-620914e652c9"
      },
      "execution_count": 16,
      "outputs": [
        {
          "output_type": "display_data",
          "data": {
            "image/svg+xml": "<?xml version=\"1.0\" encoding=\"UTF-8\" standalone=\"no\"?>\n<!DOCTYPE svg PUBLIC \"-//W3C//DTD SVG 1.1//EN\"\n \"http://www.w3.org/Graphics/SVG/1.1/DTD/svg11.dtd\">\n<!-- Generated by graphviz version 2.43.0 (0)\n -->\n<!-- Title: %3 Pages: 1 -->\n<svg width=\"222pt\" height=\"446pt\"\n viewBox=\"0.00 0.00 222.00 446.00\" xmlns=\"http://www.w3.org/2000/svg\" xmlns:xlink=\"http://www.w3.org/1999/xlink\">\n<g id=\"graph0\" class=\"graph\" transform=\"scale(1 1) rotate(0) translate(4 442)\">\n<title>%3</title>\n<polygon fill=\"white\" stroke=\"transparent\" points=\"-4,4 -4,-442 218,-442 218,4 -4,4\"/>\n<!-- 138849926193984 -->\n<g id=\"node1\" class=\"node\">\n<title>138849926193984</title>\n<polygon fill=\"#caff70\" stroke=\"black\" points=\"133.5,-31 79.5,-31 79.5,0 133.5,0 133.5,-31\"/>\n<text text-anchor=\"middle\" x=\"106.5\" y=\"-7\" font-family=\"monospace\" font-size=\"10.00\"> ()</text>\n</g>\n<!-- 138849925828272 -->\n<g id=\"node2\" class=\"node\">\n<title>138849925828272</title>\n<polygon fill=\"lightgrey\" stroke=\"black\" points=\"154,-86 59,-86 59,-67 154,-67 154,-86\"/>\n<text text-anchor=\"middle\" x=\"106.5\" y=\"-74\" font-family=\"monospace\" font-size=\"10.00\">MeanBackward0</text>\n</g>\n<!-- 138849925828272&#45;&gt;138849926193984 -->\n<g id=\"edge9\" class=\"edge\">\n<title>138849925828272&#45;&gt;138849926193984</title>\n<path fill=\"none\" stroke=\"black\" d=\"M106.5,-66.79C106.5,-60.07 106.5,-50.4 106.5,-41.34\"/>\n<polygon fill=\"black\" stroke=\"black\" points=\"110,-41.19 106.5,-31.19 103,-41.19 110,-41.19\"/>\n</g>\n<!-- 138849925835376 -->\n<g id=\"node3\" class=\"node\">\n<title>138849925835376</title>\n<polygon fill=\"lightgrey\" stroke=\"black\" points=\"151,-141 62,-141 62,-122 151,-122 151,-141\"/>\n<text text-anchor=\"middle\" x=\"106.5\" y=\"-129\" font-family=\"monospace\" font-size=\"10.00\">PowBackward0</text>\n</g>\n<!-- 138849925835376&#45;&gt;138849925828272 -->\n<g id=\"edge1\" class=\"edge\">\n<title>138849925835376&#45;&gt;138849925828272</title>\n<path fill=\"none\" stroke=\"black\" d=\"M106.5,-121.75C106.5,-114.8 106.5,-104.85 106.5,-96.13\"/>\n<polygon fill=\"black\" stroke=\"black\" points=\"110,-96.09 106.5,-86.09 103,-96.09 110,-96.09\"/>\n</g>\n<!-- 138849925833792 -->\n<g id=\"node4\" class=\"node\">\n<title>138849925833792</title>\n<polygon fill=\"lightgrey\" stroke=\"black\" points=\"151,-196 62,-196 62,-177 151,-177 151,-196\"/>\n<text text-anchor=\"middle\" x=\"106.5\" y=\"-184\" font-family=\"monospace\" font-size=\"10.00\">SubBackward0</text>\n</g>\n<!-- 138849925833792&#45;&gt;138849925835376 -->\n<g id=\"edge2\" class=\"edge\">\n<title>138849925833792&#45;&gt;138849925835376</title>\n<path fill=\"none\" stroke=\"black\" d=\"M106.5,-176.75C106.5,-169.8 106.5,-159.85 106.5,-151.13\"/>\n<polygon fill=\"black\" stroke=\"black\" points=\"110,-151.09 106.5,-141.09 103,-151.09 110,-151.09\"/>\n</g>\n<!-- 138849925837248 -->\n<g id=\"node5\" class=\"node\">\n<title>138849925837248</title>\n<polygon fill=\"lightgrey\" stroke=\"black\" points=\"151,-251 62,-251 62,-232 151,-232 151,-251\"/>\n<text text-anchor=\"middle\" x=\"106.5\" y=\"-239\" font-family=\"monospace\" font-size=\"10.00\">AddBackward0</text>\n</g>\n<!-- 138849925837248&#45;&gt;138849925833792 -->\n<g id=\"edge3\" class=\"edge\">\n<title>138849925837248&#45;&gt;138849925833792</title>\n<path fill=\"none\" stroke=\"black\" d=\"M106.5,-231.75C106.5,-224.8 106.5,-214.85 106.5,-206.13\"/>\n<polygon fill=\"black\" stroke=\"black\" points=\"110,-206.09 106.5,-196.09 103,-206.09 110,-206.09\"/>\n</g>\n<!-- 138849925835808 -->\n<g id=\"node6\" class=\"node\">\n<title>138849925835808</title>\n<polygon fill=\"lightgrey\" stroke=\"black\" points=\"95,-306 6,-306 6,-287 95,-287 95,-306\"/>\n<text text-anchor=\"middle\" x=\"50.5\" y=\"-294\" font-family=\"monospace\" font-size=\"10.00\">MulBackward0</text>\n</g>\n<!-- 138849925835808&#45;&gt;138849925837248 -->\n<g id=\"edge4\" class=\"edge\">\n<title>138849925835808&#45;&gt;138849925837248</title>\n<path fill=\"none\" stroke=\"black\" d=\"M59.5,-286.98C67.69,-279.23 80.01,-267.58 89.97,-258.14\"/>\n<polygon fill=\"black\" stroke=\"black\" points=\"92.48,-260.59 97.34,-251.17 87.67,-255.5 92.48,-260.59\"/>\n</g>\n<!-- 138849925838784 -->\n<g id=\"node7\" class=\"node\">\n<title>138849925838784</title>\n<polygon fill=\"lightgrey\" stroke=\"black\" points=\"101,-366.5 0,-366.5 0,-347.5 101,-347.5 101,-366.5\"/>\n<text text-anchor=\"middle\" x=\"50.5\" y=\"-354.5\" font-family=\"monospace\" font-size=\"10.00\">AccumulateGrad</text>\n</g>\n<!-- 138849925838784&#45;&gt;138849925835808 -->\n<g id=\"edge5\" class=\"edge\">\n<title>138849925838784&#45;&gt;138849925835808</title>\n<path fill=\"none\" stroke=\"black\" d=\"M50.5,-347.37C50.5,-339.25 50.5,-326.81 50.5,-316.39\"/>\n<polygon fill=\"black\" stroke=\"black\" points=\"54,-316.17 50.5,-306.17 47,-316.17 54,-316.17\"/>\n</g>\n<!-- 138849928771552 -->\n<g id=\"node8\" class=\"node\">\n<title>138849928771552</title>\n<polygon fill=\"lightblue\" stroke=\"black\" points=\"77.5,-438 23.5,-438 23.5,-408 77.5,-408 77.5,-438\"/>\n<text text-anchor=\"middle\" x=\"50.5\" y=\"-426\" font-family=\"monospace\" font-size=\"10.00\">W</text>\n<text text-anchor=\"middle\" x=\"50.5\" y=\"-415\" font-family=\"monospace\" font-size=\"10.00\"> ()</text>\n</g>\n<!-- 138849928771552&#45;&gt;138849925838784 -->\n<g id=\"edge6\" class=\"edge\">\n<title>138849928771552&#45;&gt;138849925838784</title>\n<path fill=\"none\" stroke=\"black\" d=\"M50.5,-407.8C50.5,-398.7 50.5,-386.79 50.5,-376.9\"/>\n<polygon fill=\"black\" stroke=\"black\" points=\"54,-376.84 50.5,-366.84 47,-376.84 54,-376.84\"/>\n</g>\n<!-- 138849925837680 -->\n<g id=\"node9\" class=\"node\">\n<title>138849925837680</title>\n<polygon fill=\"lightgrey\" stroke=\"black\" points=\"214,-306 113,-306 113,-287 214,-287 214,-306\"/>\n<text text-anchor=\"middle\" x=\"163.5\" y=\"-294\" font-family=\"monospace\" font-size=\"10.00\">AccumulateGrad</text>\n</g>\n<!-- 138849925837680&#45;&gt;138849925837248 -->\n<g id=\"edge7\" class=\"edge\">\n<title>138849925837680&#45;&gt;138849925837248</title>\n<path fill=\"none\" stroke=\"black\" d=\"M154.34,-286.98C146,-279.23 133.47,-267.58 123.32,-258.14\"/>\n<polygon fill=\"black\" stroke=\"black\" points=\"125.53,-255.42 115.82,-251.17 120.76,-260.54 125.53,-255.42\"/>\n</g>\n<!-- 138849926412896 -->\n<g id=\"node10\" class=\"node\">\n<title>138849926412896</title>\n<polygon fill=\"lightblue\" stroke=\"black\" points=\"190.5,-372 136.5,-372 136.5,-342 190.5,-342 190.5,-372\"/>\n<text text-anchor=\"middle\" x=\"163.5\" y=\"-360\" font-family=\"monospace\" font-size=\"10.00\">B</text>\n<text text-anchor=\"middle\" x=\"163.5\" y=\"-349\" font-family=\"monospace\" font-size=\"10.00\"> ()</text>\n</g>\n<!-- 138849926412896&#45;&gt;138849925837680 -->\n<g id=\"edge8\" class=\"edge\">\n<title>138849926412896&#45;&gt;138849925837680</title>\n<path fill=\"none\" stroke=\"black\" d=\"M163.5,-341.84C163.5,-334.21 163.5,-324.7 163.5,-316.45\"/>\n<polygon fill=\"black\" stroke=\"black\" points=\"167,-316.27 163.5,-306.27 160,-316.27 167,-316.27\"/>\n</g>\n</g>\n</svg>\n",
            "text/plain": [
              "<graphviz.graphs.Digraph at 0x7e4884819360>"
            ]
          },
          "metadata": {}
        }
      ]
    },
    {
      "cell_type": "code",
      "source": [
        "# 勾配計算\n",
        "loss.backward()\n",
        "print(W.grad)\n",
        "print(B.grad)"
      ],
      "metadata": {
        "colab": {
          "base_uri": "https://localhost:8080/"
        },
        "id": "bopjX5cIzVGE",
        "outputId": "3d736eb3-324b-4b60-91e5-22de3a2a8695"
      },
      "execution_count": 17,
      "outputs": [
        {
          "output_type": "stream",
          "name": "stdout",
          "text": [
            "tensor(-19.0400)\n",
            "tensor(2.0000)\n"
          ]
        }
      ]
    },
    {
      "cell_type": "code",
      "source": [
        "# 1回のパラメタ更新\n",
        "# 学習率\n",
        "lr = 0.001\n",
        "# 勾配計算をしている最中の変数は勝手に値を修正できないので、 no_grad コンテキストでラップする\n",
        "with torch.no_grad():\n",
        "    W -= lr * W.grad\n",
        "    B -= lr * B.grad\n",
        "    # 勾配を蓄積する必要はないため、リセット\n",
        "    W.grad.zero_()\n",
        "    B.grad.zero_()"
      ],
      "metadata": {
        "id": "QyQWwGg4zvx5"
      },
      "execution_count": 18,
      "outputs": []
    },
    {
      "cell_type": "code",
      "source": [
        "# 繰り返し更新\n",
        "W = torch.tensor(1.0, requires_grad=True).float()\n",
        "B = torch.tensor(1.0, requires_grad=True).float()\n",
        "# 繰り返し回数\n",
        "num_epochs = 500\n",
        "# 学習率\n",
        "lr = 0.001\n",
        "# 記録用\n",
        "history = np.zeros((0, 2))"
      ],
      "metadata": {
        "id": "wbg1ocS70uOT"
      },
      "execution_count": 19,
      "outputs": []
    },
    {
      "cell_type": "code",
      "source": [
        "for epoch in range(num_epochs):\n",
        "    Yp = pred(X)\n",
        "    loss = mse(Yp, Y)\n",
        "    loss.backward()\n",
        "    with torch.no_grad():\n",
        "        W -= lr * W.grad\n",
        "        B -= lr * B.grad\n",
        "        # 勾配を蓄積する必要はないため、リセット\n",
        "        W.grad.zero_()\n",
        "        B.grad.zero_()\n",
        "\n",
        "    # 損失の記録\n",
        "    if (epoch % 10 == 0):\n",
        "        item = np.array([epoch, loss.item()])\n",
        "        history = np.vstack((history, item))\n",
        "        print(f\"epoch = {epoch} loss={loss:.4f}\")"
      ],
      "metadata": {
        "colab": {
          "base_uri": "https://localhost:8080/"
        },
        "id": "BzUhSRe-1_G1",
        "outputId": "2a6b496c-5704-4e0a-bdc4-db71d065833c"
      },
      "execution_count": 20,
      "outputs": [
        {
          "output_type": "stream",
          "name": "stdout",
          "text": [
            "epoch = 0 loss=13.3520\n",
            "epoch = 10 loss=10.3855\n",
            "epoch = 20 loss=8.5173\n",
            "epoch = 30 loss=7.3364\n",
            "epoch = 40 loss=6.5858\n",
            "epoch = 50 loss=6.1047\n",
            "epoch = 60 loss=5.7927\n",
            "epoch = 70 loss=5.5868\n",
            "epoch = 80 loss=5.4476\n",
            "epoch = 90 loss=5.3507\n",
            "epoch = 100 loss=5.2805\n",
            "epoch = 110 loss=5.2275\n",
            "epoch = 120 loss=5.1855\n",
            "epoch = 130 loss=5.1507\n",
            "epoch = 140 loss=5.1208\n",
            "epoch = 150 loss=5.0943\n",
            "epoch = 160 loss=5.0703\n",
            "epoch = 170 loss=5.0480\n",
            "epoch = 180 loss=5.0271\n",
            "epoch = 190 loss=5.0074\n",
            "epoch = 200 loss=4.9887\n",
            "epoch = 210 loss=4.9708\n",
            "epoch = 220 loss=4.9537\n",
            "epoch = 230 loss=4.9373\n",
            "epoch = 240 loss=4.9217\n",
            "epoch = 250 loss=4.9066\n",
            "epoch = 260 loss=4.8922\n",
            "epoch = 270 loss=4.8783\n",
            "epoch = 280 loss=4.8650\n",
            "epoch = 290 loss=4.8522\n",
            "epoch = 300 loss=4.8399\n",
            "epoch = 310 loss=4.8281\n",
            "epoch = 320 loss=4.8167\n",
            "epoch = 330 loss=4.8058\n",
            "epoch = 340 loss=4.7953\n",
            "epoch = 350 loss=4.7853\n",
            "epoch = 360 loss=4.7756\n",
            "epoch = 370 loss=4.7663\n",
            "epoch = 380 loss=4.7574\n",
            "epoch = 390 loss=4.7488\n",
            "epoch = 400 loss=4.7406\n",
            "epoch = 410 loss=4.7327\n",
            "epoch = 420 loss=4.7251\n",
            "epoch = 430 loss=4.7178\n",
            "epoch = 440 loss=4.7108\n",
            "epoch = 450 loss=4.7040\n",
            "epoch = 460 loss=4.6976\n",
            "epoch = 470 loss=4.6913\n",
            "epoch = 480 loss=4.6854\n",
            "epoch = 490 loss=4.6796\n"
          ]
        }
      ]
    },
    {
      "cell_type": "code",
      "source": [
        "# パラメタの最終更新結果\n",
        "print(\"W = \", W.data.numpy())\n",
        "print(\"B = \", B.data.numpy())"
      ],
      "metadata": {
        "colab": {
          "base_uri": "https://localhost:8080/"
        },
        "id": "STH1YLGL3O0i",
        "outputId": "46125011-5d75-461d-bc35-b880dfddcb48"
      },
      "execution_count": 21,
      "outputs": [
        {
          "output_type": "stream",
          "name": "stdout",
          "text": [
            "W =  1.820683\n",
            "B =  0.3675114\n"
          ]
        }
      ]
    },
    {
      "cell_type": "markdown",
      "source": [
        "# 3.12 最適化関数の利用"
      ],
      "metadata": {
        "id": "REf1vAMI3_1_"
      }
    },
    {
      "cell_type": "code",
      "source": [
        "# 繰り返し更新\n",
        "W = torch.tensor(1.0, requires_grad=True).float()\n",
        "B = torch.tensor(1.0, requires_grad=True).float()\n",
        "# 繰り返し回数\n",
        "num_epochs = 500\n",
        "# 学習率\n",
        "lr = 0.001\n",
        "# optimizerとしてSGDを利用\n",
        "import torch.optim as optim\n",
        "optimizer = optim.SGD([W, B], lr=lr)\n",
        "# 記録用\n",
        "history = np.zeros((0, 2))"
      ],
      "metadata": {
        "id": "ciipGWXf3gK8"
      },
      "execution_count": 22,
      "outputs": []
    },
    {
      "cell_type": "code",
      "source": [
        "for epoch in range(num_epochs):\n",
        "    Yp = pred(X)\n",
        "    loss = mse(Yp, Y)\n",
        "    loss.backward()\n",
        "    optimizer.step()\n",
        "    optimizer.zero_grad()\n",
        "\n",
        "    # 損失の記録\n",
        "    if (epoch % 10 == 0):\n",
        "        item = np.array([epoch, loss.item()])\n",
        "        history = np.vstack((history, item))\n",
        "        print(f\"epoch = {epoch} loss={loss:.4f}\")"
      ],
      "metadata": {
        "colab": {
          "base_uri": "https://localhost:8080/"
        },
        "id": "5MRwyoJm4YKk",
        "outputId": "7543f5e7-0856-4d9f-f323-ed1256ee8d68"
      },
      "execution_count": 23,
      "outputs": [
        {
          "output_type": "stream",
          "name": "stdout",
          "text": [
            "epoch = 0 loss=13.3520\n",
            "epoch = 10 loss=10.3855\n",
            "epoch = 20 loss=8.5173\n",
            "epoch = 30 loss=7.3364\n",
            "epoch = 40 loss=6.5858\n",
            "epoch = 50 loss=6.1047\n",
            "epoch = 60 loss=5.7927\n",
            "epoch = 70 loss=5.5868\n",
            "epoch = 80 loss=5.4476\n",
            "epoch = 90 loss=5.3507\n",
            "epoch = 100 loss=5.2805\n",
            "epoch = 110 loss=5.2275\n",
            "epoch = 120 loss=5.1855\n",
            "epoch = 130 loss=5.1507\n",
            "epoch = 140 loss=5.1208\n",
            "epoch = 150 loss=5.0943\n",
            "epoch = 160 loss=5.0703\n",
            "epoch = 170 loss=5.0480\n",
            "epoch = 180 loss=5.0271\n",
            "epoch = 190 loss=5.0074\n",
            "epoch = 200 loss=4.9887\n",
            "epoch = 210 loss=4.9708\n",
            "epoch = 220 loss=4.9537\n",
            "epoch = 230 loss=4.9373\n",
            "epoch = 240 loss=4.9217\n",
            "epoch = 250 loss=4.9066\n",
            "epoch = 260 loss=4.8922\n",
            "epoch = 270 loss=4.8783\n",
            "epoch = 280 loss=4.8650\n",
            "epoch = 290 loss=4.8522\n",
            "epoch = 300 loss=4.8399\n",
            "epoch = 310 loss=4.8281\n",
            "epoch = 320 loss=4.8167\n",
            "epoch = 330 loss=4.8058\n",
            "epoch = 340 loss=4.7953\n",
            "epoch = 350 loss=4.7853\n",
            "epoch = 360 loss=4.7756\n",
            "epoch = 370 loss=4.7663\n",
            "epoch = 380 loss=4.7574\n",
            "epoch = 390 loss=4.7488\n",
            "epoch = 400 loss=4.7406\n",
            "epoch = 410 loss=4.7327\n",
            "epoch = 420 loss=4.7251\n",
            "epoch = 430 loss=4.7178\n",
            "epoch = 440 loss=4.7108\n",
            "epoch = 450 loss=4.7040\n",
            "epoch = 460 loss=4.6976\n",
            "epoch = 470 loss=4.6913\n",
            "epoch = 480 loss=4.6854\n",
            "epoch = 490 loss=4.6796\n"
          ]
        }
      ]
    },
    {
      "cell_type": "code",
      "source": [
        "# パラメタの最終更新結果\n",
        "print(\"W = \", W.data.numpy())\n",
        "print(\"B = \", B.data.numpy())"
      ],
      "metadata": {
        "colab": {
          "base_uri": "https://localhost:8080/"
        },
        "id": "fzqF2oEZ4nL5",
        "outputId": "fae39df5-a40d-491b-d654-2c560d5e39b9"
      },
      "execution_count": 24,
      "outputs": [
        {
          "output_type": "stream",
          "name": "stdout",
          "text": [
            "W =  1.820683\n",
            "B =  0.3675114\n"
          ]
        }
      ]
    },
    {
      "cell_type": "code",
      "source": [
        "# 最適化関数をチューニング\n",
        "W = torch.tensor(1.0, requires_grad=True).float()\n",
        "B = torch.tensor(1.0, requires_grad=True).float()\n",
        "# 繰り返し回数\n",
        "num_epochs = 500\n",
        "# 学習率\n",
        "lr = 0.001\n",
        "# optimizerとしてSGDを利用(モメンタム)\n",
        "optimizer = optim.SGD([W, B], lr=lr, momentum=0.9)\n",
        "# 記録用\n",
        "history = np.zeros((0, 2))"
      ],
      "metadata": {
        "id": "IC3jg4kC4tTp"
      },
      "execution_count": 25,
      "outputs": []
    },
    {
      "cell_type": "code",
      "source": [
        "for epoch in range(num_epochs):\n",
        "    Yp = pred(X)\n",
        "    loss = mse(Yp, Y)\n",
        "    loss.backward()\n",
        "    optimizer.step()\n",
        "    optimizer.zero_grad()\n",
        "\n",
        "    # 損失の記録\n",
        "    if (epoch % 10 == 0):\n",
        "        item = np.array([epoch, loss.item()])\n",
        "        history = np.vstack((history, item))\n",
        "        print(f\"epoch = {epoch} loss={loss:.4f}\")"
      ],
      "metadata": {
        "colab": {
          "base_uri": "https://localhost:8080/"
        },
        "id": "eIWREYhg5F_2",
        "outputId": "abc9663b-d706-4914-956c-9ebc617a5111"
      },
      "execution_count": 26,
      "outputs": [
        {
          "output_type": "stream",
          "name": "stdout",
          "text": [
            "epoch = 0 loss=13.3520\n",
            "epoch = 10 loss=5.7585\n",
            "epoch = 20 loss=5.9541\n",
            "epoch = 30 loss=5.0276\n",
            "epoch = 40 loss=4.8578\n",
            "epoch = 50 loss=4.7052\n",
            "epoch = 60 loss=4.6327\n",
            "epoch = 70 loss=4.5940\n",
            "epoch = 80 loss=4.5698\n",
            "epoch = 90 loss=4.5574\n",
            "epoch = 100 loss=4.5495\n",
            "epoch = 110 loss=4.5452\n",
            "epoch = 120 loss=4.5426\n",
            "epoch = 130 loss=4.5411\n",
            "epoch = 140 loss=4.5403\n",
            "epoch = 150 loss=4.5398\n",
            "epoch = 160 loss=4.5395\n",
            "epoch = 170 loss=4.5393\n",
            "epoch = 180 loss=4.5392\n",
            "epoch = 190 loss=4.5391\n",
            "epoch = 200 loss=4.5391\n",
            "epoch = 210 loss=4.5391\n",
            "epoch = 220 loss=4.5391\n",
            "epoch = 230 loss=4.5390\n",
            "epoch = 240 loss=4.5390\n",
            "epoch = 250 loss=4.5390\n",
            "epoch = 260 loss=4.5390\n",
            "epoch = 270 loss=4.5390\n",
            "epoch = 280 loss=4.5390\n",
            "epoch = 290 loss=4.5390\n",
            "epoch = 300 loss=4.5390\n",
            "epoch = 310 loss=4.5390\n",
            "epoch = 320 loss=4.5390\n",
            "epoch = 330 loss=4.5390\n",
            "epoch = 340 loss=4.5390\n",
            "epoch = 350 loss=4.5390\n",
            "epoch = 360 loss=4.5390\n",
            "epoch = 370 loss=4.5390\n",
            "epoch = 380 loss=4.5390\n",
            "epoch = 390 loss=4.5390\n",
            "epoch = 400 loss=4.5390\n",
            "epoch = 410 loss=4.5390\n",
            "epoch = 420 loss=4.5390\n",
            "epoch = 430 loss=4.5390\n",
            "epoch = 440 loss=4.5390\n",
            "epoch = 450 loss=4.5390\n",
            "epoch = 460 loss=4.5390\n",
            "epoch = 470 loss=4.5390\n",
            "epoch = 480 loss=4.5390\n",
            "epoch = 490 loss=4.5390\n"
          ]
        }
      ]
    },
    {
      "cell_type": "code",
      "source": [
        "# パラメタの最終更新結果\n",
        "print(\"W = \", W.data.numpy())\n",
        "print(\"B = \", B.data.numpy())"
      ],
      "metadata": {
        "colab": {
          "base_uri": "https://localhost:8080/"
        },
        "id": "KtM2Zjlb5HMQ",
        "outputId": "f53f9d67-8028-4cc9-bd84-fe3be137b99d"
      },
      "execution_count": 27,
      "outputs": [
        {
          "output_type": "stream",
          "name": "stdout",
          "text": [
            "W =  1.8206898\n",
            "B =  2.2734291e-06\n"
          ]
        }
      ]
    }
  ]
}